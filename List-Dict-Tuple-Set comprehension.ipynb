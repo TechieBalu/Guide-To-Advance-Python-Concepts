{
 "cells": [
  {
   "cell_type": "markdown",
   "id": "02e3367f",
   "metadata": {},
   "source": [
    "# List-Dict-Tuple-Set Comprehension"
   ]
  },
  {
   "cell_type": "code",
   "execution_count": 1,
   "id": "8c0bc6d3",
   "metadata": {},
   "outputs": [
    {
     "data": {
      "text/plain": [
       "[0, 1, 2, 3, 4, 5, 6, 7, 8, 9]"
      ]
     },
     "execution_count": 1,
     "metadata": {},
     "output_type": "execute_result"
    }
   ],
   "source": [
    "l1 = [i for i in range (0,10)]\n",
    "l1"
   ]
  },
  {
   "cell_type": "code",
   "execution_count": 2,
   "id": "34567bab",
   "metadata": {},
   "outputs": [
    {
     "data": {
      "text/plain": [
       "[0, 2, 4, 6, 8]"
      ]
     },
     "execution_count": 2,
     "metadata": {},
     "output_type": "execute_result"
    }
   ],
   "source": [
    "l2 = [i for i in range(0,10) if i%2==0]\n",
    "l2"
   ]
  },
  {
   "cell_type": "code",
   "execution_count": 6,
   "id": "b6b5f8e0",
   "metadata": {},
   "outputs": [
    {
     "data": {
      "text/plain": [
       "['mango',\n",
       " 'orange',\n",
       " 'orange',\n",
       " 'mango',\n",
       " 'orange',\n",
       " 'orange',\n",
       " 'mango',\n",
       " 'orange',\n",
       " 'orange',\n",
       " 'mango']"
      ]
     },
     "execution_count": 6,
     "metadata": {},
     "output_type": "execute_result"
    }
   ],
   "source": [
    "fruits = [\"mango\" if i%3==0 else \"orange\" for i in range(10)]\n",
    "fruits"
   ]
  },
  {
   "cell_type": "code",
   "execution_count": 12,
   "id": "2e98fb2d",
   "metadata": {},
   "outputs": [
    {
     "data": {
      "text/plain": [
       "[[2], [4], [6], [8]]"
      ]
     },
     "execution_count": 12,
     "metadata": {},
     "output_type": "execute_result"
    }
   ],
   "source": [
    "l1 = [[2,4,6,8]]\n",
    "matrix = [[row[i] for row in l1] for i in range(4)]\n",
    "matrix"
   ]
  },
  {
   "cell_type": "code",
   "execution_count": null,
   "id": "24ccc8e6",
   "metadata": {},
   "outputs": [],
   "source": []
  }
 ],
 "metadata": {
  "kernelspec": {
   "display_name": "Python 3 (ipykernel)",
   "language": "python",
   "name": "python3"
  },
  "language_info": {
   "codemirror_mode": {
    "name": "ipython",
    "version": 3
   },
   "file_extension": ".py",
   "mimetype": "text/x-python",
   "name": "python",
   "nbconvert_exporter": "python",
   "pygments_lexer": "ipython3",
   "version": "3.9.13"
  }
 },
 "nbformat": 4,
 "nbformat_minor": 5
}
