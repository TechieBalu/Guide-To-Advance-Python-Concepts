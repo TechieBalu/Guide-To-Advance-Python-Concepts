{
 "cells": [
  {
   "cell_type": "markdown",
   "id": "aaa93633",
   "metadata": {},
   "source": [
    "# List-Dict-Tuple-Set Comprehension\n"
   ]
  },
  {
   "cell_type": "markdown",
   "id": "c8e68b66",
   "metadata": {},
   "source": [
    "## List comprehension\n",
    "\n",
    "\n",
    "**Description**: List comprehensions provide a concise way to create lists in Python. The basic structure of a list comprehension is `[expression for item in iterable if condition] `\n",
    "\n",
    "\n",
    "**Example**\n",
    "Let's say we have a list of integers and we want to perform an operation of taking square of each integer and store it into another list\n",
    "\n",
    "There are 2 ways of doing it:   \n",
    "1. Do it using for loop to iterate over each element of list_1 and store the square of each number in list_2   \n",
    "2. Use List comprehension to achieve this task  \n",
    "\n",
    "Let's first try it using a for loop"
   ]
  },
  {
   "cell_type": "code",
   "execution_count": 6,
   "id": "9153f37f",
   "metadata": {},
   "outputs": [
    {
     "data": {
      "text/plain": [
       "[0, 1, 2, 3, 4, 5, 6, 7, 8, 9]"
      ]
     },
     "execution_count": 6,
     "metadata": {},
     "output_type": "execute_result"
    }
   ],
   "source": [
    "import math\n",
    "# Create list of integers from 1 - 10 \n",
    "list_1 = [*range(0,10)]\n",
    "\n",
    "list_1"
   ]
  },
  {
   "cell_type": "code",
   "execution_count": 7,
   "id": "8c58f098",
   "metadata": {},
   "outputs": [
    {
     "data": {
      "text/plain": [
       "[0, 1, 4, 9, 16, 25, 36, 49, 64, 81]"
      ]
     },
     "execution_count": 7,
     "metadata": {},
     "output_type": "execute_result"
    }
   ],
   "source": [
    "# create another empyt list to store squares of each integer of list_1\n",
    "list_2 = []\n",
    "\n",
    "# Iterate over each element of list_1 and store sqaure in list_2\n",
    "for num in list_1: \n",
    "    list_2.append(num**2)\n",
    "    \n",
    "list_2"
   ]
  },
  {
   "cell_type": "markdown",
   "id": "cf2b2841",
   "metadata": {},
   "source": [
    "**Let's achieve the same thing using List comprehension**"
   ]
  },
  {
   "cell_type": "code",
   "execution_count": 8,
   "id": "9e8c31df",
   "metadata": {},
   "outputs": [
    {
     "data": {
      "text/plain": [
       "[0, 1, 4, 9, 16, 25, 36, 49, 64, 81]"
      ]
     },
     "execution_count": 8,
     "metadata": {},
     "output_type": "execute_result"
    }
   ],
   "source": [
    "list_2 = [num**2 for num in list_1]\n",
    "\n",
    "list_2"
   ]
  },
  {
   "cell_type": "markdown",
   "id": "9991a81b",
   "metadata": {},
   "source": [
    "### Look at the list comprehension, How we achived the same task in just one line of code\n",
    "\n",
    "**Advantages of list comprehension:** \n",
    "- **Concise and Readable Code:** List comprehensions allow you to express the creation of lists in a compact and readable manner, reducing the need for explicit loops and temporary variables. This leads to cleaner and more concise code.\n",
    "\n",
    "- **Reduced Code Length:** List comprehensions can often replace several lines of code with a single line, making your code more succinct.\n",
    "\n",
    "- **Improved Performance:** In many cases, list comprehensions are faster than equivalent loops, thanks to their efficient implementation in Python.\n",
    "\n",
    "- **Functional Programming Paradigm:** List comprehensions are inspired by functional programming concepts, which encourage immutability and operations on collections, making your code more expressive and maintainable.\n",
    "\n",
    "- **Scope of Variables:** Variables created in a list comprehension have their scope limited to the expression, which reduces the chance of accidental variable collisions.  \n",
    "\n",
    "\n",
    "**Disadvantages of List Comprehension:**\n",
    "\n",
    "- **Difficult Debugging:** It is very difficult to debug when we have nested list comprehensions. Sometimes we need to disintegrate each list comprehension from nested list comprehension to understand it's output or sometimes we need to write the for loops that mimics list comprehensions to understand it fully \n",
    "\n",
    "- **Not Easy to Understand:** It's not easy for beginners but once to start understanding it, it will be more easy to understand list comprehensions than the bare for loop methodology. \n",
    "\n",
    "- **Limited Expressiveness:** List comprehensions are not suitable for all types of loops and transformations. They are most effective for simple operations that can be expressed in a single line. Complex or multi-step operations may be less readable or even impossible to represent using list comprehensions.\n",
    "\n",
    "\n",
    "\n",
    "### **What we can do from list comprehensions**\n",
    "\n",
    "1. We can use if else operations in list comprehensions\n",
    "2. We can use walrus operator (introduced in Python 3.8) in list comprehensions\n",
    "3. We can use nested list comprehensions"
   ]
  },
  {
   "cell_type": "code",
   "execution_count": null,
   "id": "39a9417d",
   "metadata": {},
   "outputs": [],
   "source": []
  },
  {
   "cell_type": "code",
   "execution_count": 1,
   "id": "5f971ff7",
   "metadata": {},
   "outputs": [
    {
     "data": {
      "text/plain": [
       "[0, 1, 2, 3, 4, 5, 6, 7, 8, 9]"
      ]
     },
     "execution_count": 1,
     "metadata": {},
     "output_type": "execute_result"
    }
   ],
   "source": [
    "l1 = [i for i in range (0,10)]\n",
    "l1"
   ]
  },
  {
   "cell_type": "code",
   "execution_count": 2,
   "id": "670a0b8e",
   "metadata": {},
   "outputs": [
    {
     "data": {
      "text/plain": [
       "[0, 2, 4, 6, 8]"
      ]
     },
     "execution_count": 2,
     "metadata": {},
     "output_type": "execute_result"
    }
   ],
   "source": [
    "l2 = [i for i in range(0,10) if i%2==0]\n",
    "l2"
   ]
  },
  {
   "cell_type": "code",
   "execution_count": 6,
   "id": "070d3c0d",
   "metadata": {},
   "outputs": [
    {
     "data": {
      "text/plain": [
       "['mango',\n",
       " 'orange',\n",
       " 'orange',\n",
       " 'mango',\n",
       " 'orange',\n",
       " 'orange',\n",
       " 'mango',\n",
       " 'orange',\n",
       " 'orange',\n",
       " 'mango']"
      ]
     },
     "execution_count": 6,
     "metadata": {},
     "output_type": "execute_result"
    }
   ],
   "source": [
    "fruits = [\"mango\" if i%3==0 else \"orange\" for i in range(10)]\n",
    "fruits"
   ]
  },
  {
   "cell_type": "code",
   "execution_count": 12,
   "id": "f6282405",
   "metadata": {},
   "outputs": [
    {
     "data": {
      "text/plain": [
       "[[2], [4], [6], [8]]"
      ]
     },
     "execution_count": 12,
     "metadata": {},
     "output_type": "execute_result"
    }
   ],
   "source": [
    "l1 = [[2,4,6,8]]\n",
    "matrix = [[row[i] for row in l1] for i in range(4)]\n",
    "matrix"
   ]
  },
  {
   "cell_type": "code",
   "execution_count": 13,
   "id": "6213aa04",
   "metadata": {},
   "outputs": [
    {
     "ename": "SyntaxError",
     "evalue": "invalid syntax (2784380558.py, line 2)",
     "output_type": "error",
     "traceback": [
      "\u001b[1;36m  File \u001b[1;32m\"C:\\Users\\Meer\\AppData\\Local\\Temp\\ipykernel_4052\\2784380558.py\"\u001b[1;36m, line \u001b[1;32m2\u001b[0m\n\u001b[1;33m    return A if condition_is_met\u001b[0m\n\u001b[1;37m    ^\u001b[0m\n\u001b[1;31mSyntaxError\u001b[0m\u001b[1;31m:\u001b[0m invalid syntax\n"
     ]
    }
   ],
   "source": [
    "new_list = [\n",
    "  return A if condition_is_met\n",
    "  else return B if condition_is_met else return C\n",
    "  for item in a_list\n",
    "]"
   ]
  },
  {
   "cell_type": "code",
   "execution_count": 14,
   "id": "43ced893",
   "metadata": {},
   "outputs": [],
   "source": [
    "formatted_x = \"3.96000\"\n",
    "converted_x = float(formatted_x)"
   ]
  },
  {
   "cell_type": "code",
   "execution_count": 8,
   "id": "ca19a2bd",
   "metadata": {},
   "outputs": [
    {
     "ename": "NameError",
     "evalue": "name 'formatted_x' is not defined",
     "output_type": "error",
     "traceback": [
      "\u001b[1;31m---------------------------------------------------------------------------\u001b[0m",
      "\u001b[1;31mNameError\u001b[0m                                 Traceback (most recent call last)",
      "\u001b[1;32m~\\AppData\\Local\\Temp\\ipykernel_32780\\2226835766.py\u001b[0m in \u001b[0;36m<module>\u001b[1;34m\u001b[0m\n\u001b[0;32m      1\u001b[0m \u001b[1;32mimport\u001b[0m \u001b[0mdecimal\u001b[0m\u001b[1;33m\u001b[0m\u001b[1;33m\u001b[0m\u001b[0m\n\u001b[1;32m----> 2\u001b[1;33m \u001b[0mprint\u001b[0m\u001b[1;33m(\u001b[0m\u001b[0mdecimal\u001b[0m\u001b[1;33m.\u001b[0m\u001b[0mDecimal\u001b[0m\u001b[1;33m(\u001b[0m\u001b[0mformatted_x\u001b[0m\u001b[1;33m)\u001b[0m\u001b[1;33m)\u001b[0m\u001b[1;33m\u001b[0m\u001b[1;33m\u001b[0m\u001b[0m\n\u001b[0m",
      "\u001b[1;31mNameError\u001b[0m: name 'formatted_x' is not defined"
     ]
    }
   ],
   "source": [
    "import decimal \n",
    "print(decimal.Decimal(formatted_x))"
   ]
  },
  {
   "cell_type": "code",
   "execution_count": 9,
   "id": "3b2c405f",
   "metadata": {},
   "outputs": [],
   "source": [
    "def findMedianSortedArrays( nums1, nums2):\n",
    "        \"\"\"\n",
    "        :type nums1: List[int]\n",
    "        :type nums2: List[int]\n",
    "        :rtype: float\n",
    "        \"\"\"\n",
    "        num3 = nums1+nums2\n",
    "        length = len(num3)/2\n",
    "        intLength = int(len(num3)/2)\n",
    "        difference = length - intLength\n",
    "        if difference != 0.0:\n",
    "            median = num3[math.ceil(length)]/1\n",
    "        else: \n",
    "            median = (num3[intLength-1] +  num3[intLength])/2\n",
    "\n",
    "        print(\"this is : \",median)\n",
    "        return median"
   ]
  },
  {
   "cell_type": "code",
   "execution_count": 10,
   "id": "c0e6103f",
   "metadata": {},
   "outputs": [
    {
     "name": "stdout",
     "output_type": "stream",
     "text": [
      "this is :  2.5\n"
     ]
    },
    {
     "data": {
      "text/plain": [
       "2.5"
      ]
     },
     "execution_count": 10,
     "metadata": {},
     "output_type": "execute_result"
    }
   ],
   "source": [
    "result = findMedianSortedArrays([1,2],[3,4])\n",
    "result"
   ]
  },
  {
   "cell_type": "code",
   "execution_count": 23,
   "id": "e1e5a752",
   "metadata": {},
   "outputs": [
    {
     "data": {
      "text/plain": [
       "Decimal('2.50')"
      ]
     },
     "execution_count": 23,
     "metadata": {},
     "output_type": "execute_result"
    }
   ],
   "source": [
    "result1 = \"{:.2f}\".format(result)\n",
    "decimal.Decimal(result1)"
   ]
  },
  {
   "cell_type": "code",
   "execution_count": null,
   "id": "1a1c5fd1",
   "metadata": {},
   "outputs": [],
   "source": []
  }
 ],
 "metadata": {
  "kernelspec": {
   "display_name": "Python 3 (ipykernel)",
   "language": "python",
   "name": "python3"
  },
  "language_info": {
   "codemirror_mode": {
    "name": "ipython",
    "version": 3
   },
   "file_extension": ".py",
   "mimetype": "text/x-python",
   "name": "python",
   "nbconvert_exporter": "python",
   "pygments_lexer": "ipython3",
   "version": "3.9.13"
  }
 },
 "nbformat": 4,
 "nbformat_minor": 5
}
