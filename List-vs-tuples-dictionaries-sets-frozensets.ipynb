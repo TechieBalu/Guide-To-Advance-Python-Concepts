{
 "cells": [
  {
   "cell_type": "markdown",
   "id": "0dab3ea5",
   "metadata": {},
   "source": [
    "# Lists"
   ]
  },
  {
   "cell_type": "markdown",
   "id": "855bbc86",
   "metadata": {},
   "source": [
    "### 1- Creation of list \n",
    "Method 1: with list class object  (formal notation)   \n",
    "Method 2: bracket syntax (literal notation) "
   ]
  },
  {
   "cell_type": "code",
   "execution_count": 63,
   "id": "0204ed0b",
   "metadata": {},
   "outputs": [
    {
     "data": {
      "text/plain": [
       "[1, 2, 3]"
      ]
     },
     "execution_count": 63,
     "metadata": {},
     "output_type": "execute_result"
    }
   ],
   "source": [
    "# formal notation \n",
    "list_formal = list((1,2,3))\n",
    "l1"
   ]
  },
  {
   "cell_type": "code",
   "execution_count": 64,
   "id": "f948e19b",
   "metadata": {},
   "outputs": [],
   "source": [
    "# Literal notation\n",
    "list_literal = [1,2,3]"
   ]
  },
  {
   "cell_type": "code",
   "execution_count": 65,
   "id": "2ad11bb5",
   "metadata": {},
   "outputs": [],
   "source": [
    "# Creation of big list can be time taking, and time Efficiency of literal format is higher than the formal notation"
   ]
  },
  {
   "cell_type": "markdown",
   "id": "be7238d3",
   "metadata": {},
   "source": [
    "### List functions\n",
    "- append()\n",
    "- insert()\n",
    "- pop()\n",
    "- remove()\n",
    "- extend()\n",
    "- len()\n",
    "- count() \n",
    "- index()\n",
    "- sort() \n",
    "- reverse()\n",
    "- clear() \n",
    "- del"
   ]
  },
  {
   "cell_type": "code",
   "execution_count": 66,
   "id": "6670798a",
   "metadata": {},
   "outputs": [
    {
     "data": {
      "text/plain": [
       "[1, 2, 3, 5]"
      ]
     },
     "execution_count": 66,
     "metadata": {},
     "output_type": "execute_result"
    }
   ],
   "source": [
    "# Useful functions of lists: \n",
    "\n",
    "# Appending: \n",
    "list_literal.append(5)\n",
    "list_literal"
   ]
  },
  {
   "cell_type": "code",
   "execution_count": 67,
   "id": "3173d204",
   "metadata": {},
   "outputs": [
    {
     "data": {
      "text/plain": [
       "[1, 2, 10, 3, 5]"
      ]
     },
     "execution_count": 67,
     "metadata": {},
     "output_type": "execute_result"
    }
   ],
   "source": [
    "# Inserting\n",
    "\n",
    "list_literal.insert(2,10)\n",
    "list_literal\n",
    "\n",
    "# Added 10 at index 2"
   ]
  },
  {
   "cell_type": "code",
   "execution_count": 68,
   "id": "958a8724",
   "metadata": {},
   "outputs": [
    {
     "data": {
      "text/plain": [
       "[1, 2, 10, 3]"
      ]
     },
     "execution_count": 68,
     "metadata": {},
     "output_type": "execute_result"
    }
   ],
   "source": [
    "# Deleting last item\n",
    "list_literal.pop()\n",
    "\n",
    "list_literal"
   ]
  },
  {
   "cell_type": "code",
   "execution_count": 69,
   "id": "490661a8",
   "metadata": {},
   "outputs": [
    {
     "data": {
      "text/plain": [
       "[1, 2, 3]"
      ]
     },
     "execution_count": 69,
     "metadata": {},
     "output_type": "execute_result"
    }
   ],
   "source": [
    "# Removing/Deleting a specific element (first occurance)\n",
    "\n",
    "list_literal.remove(10)\n",
    "list_literal"
   ]
  },
  {
   "cell_type": "code",
   "execution_count": 70,
   "id": "37e75d64",
   "metadata": {},
   "outputs": [
    {
     "data": {
      "text/plain": [
       "[1, 3]"
      ]
     },
     "execution_count": 70,
     "metadata": {},
     "output_type": "execute_result"
    }
   ],
   "source": [
    "# Removing Element at specified index\n",
    "\n",
    "# we use pop() for this operation, by default, pop has -1 index, but we can pass desired index\n",
    "list_literal.pop(1)\n",
    "list_literal"
   ]
  },
  {
   "cell_type": "code",
   "execution_count": 71,
   "id": "0a29252d",
   "metadata": {},
   "outputs": [
    {
     "data": {
      "text/plain": [
       "[1, 3, 5, 2, 7, 8, 9]"
      ]
     },
     "execution_count": 71,
     "metadata": {},
     "output_type": "execute_result"
    }
   ],
   "source": [
    "# Adding another list into other list\n",
    "\n",
    "list_literal.extend([5,2,7,8,9])\n",
    "list_literal"
   ]
  },
  {
   "cell_type": "code",
   "execution_count": 72,
   "id": "f6c05fdc",
   "metadata": {},
   "outputs": [
    {
     "data": {
      "text/plain": [
       "7"
      ]
     },
     "execution_count": 72,
     "metadata": {},
     "output_type": "execute_result"
    }
   ],
   "source": [
    "# Finding length of list\n",
    "len(list_literal)"
   ]
  },
  {
   "cell_type": "code",
   "execution_count": 73,
   "id": "95345041",
   "metadata": {},
   "outputs": [
    {
     "data": {
      "text/plain": [
       "1"
      ]
     },
     "execution_count": 73,
     "metadata": {},
     "output_type": "execute_result"
    }
   ],
   "source": [
    "# Counting the number, an element repeated in a list \n",
    "\n",
    "# Number of time 5 is repeated in a list\n",
    "list_literal.count(5)"
   ]
  },
  {
   "cell_type": "code",
   "execution_count": 74,
   "id": "cd0db72d",
   "metadata": {},
   "outputs": [
    {
     "name": "stdout",
     "output_type": "stream",
     "text": [
      "[]\n"
     ]
    }
   ],
   "source": [
    "# Clearing all the elements of list: \n",
    "list_to_clear = [1,2,3,4,5]\n",
    "list_to_clear.clear()\n",
    "\n",
    "print(list_to_clear)\n",
    "    "
   ]
  },
  {
   "cell_type": "code",
   "execution_count": 75,
   "id": "a49d7673",
   "metadata": {},
   "outputs": [
    {
     "name": "stdout",
     "output_type": "stream",
     "text": [
      "[]\n"
     ]
    }
   ],
   "source": [
    "# Another syntax to clear a list \n",
    "list_to_clear = [1,2,3,4,5]\n",
    "\n",
    "del list_to_clear[:]\n",
    "print(list_to_clear)"
   ]
  },
  {
   "cell_type": "code",
   "execution_count": 76,
   "id": "7fb09687",
   "metadata": {},
   "outputs": [],
   "source": [
    "# Deleting a list \n",
    "del list_to_clear\n",
    "\n",
    "# list_to_clear"
   ]
  },
  {
   "cell_type": "code",
   "execution_count": 77,
   "id": "d65b27bc",
   "metadata": {},
   "outputs": [
    {
     "data": {
      "text/plain": [
       "2"
      ]
     },
     "execution_count": 77,
     "metadata": {},
     "output_type": "execute_result"
    }
   ],
   "source": [
    "# Find index of any element in list \n",
    "list_literal.index(5)"
   ]
  },
  {
   "cell_type": "code",
   "execution_count": 78,
   "id": "5c01b837",
   "metadata": {},
   "outputs": [
    {
     "name": "stdout",
     "output_type": "stream",
     "text": [
      "[1, 2, 3, 5, 7, 8, 9]\n"
     ]
    }
   ],
   "source": [
    "# Sorting list in ascending order \n",
    "list_literal.sort()\n",
    "print(list_literal)"
   ]
  },
  {
   "cell_type": "code",
   "execution_count": 80,
   "id": "9bb90d5c",
   "metadata": {},
   "outputs": [
    {
     "data": {
      "text/plain": [
       "[9, 8, 7, 5, 3, 2, 1]"
      ]
     },
     "execution_count": 80,
     "metadata": {},
     "output_type": "execute_result"
    }
   ],
   "source": [
    "# Sorting list in descending order \n",
    "list_literal.sort(reverse = True )\n",
    "list_literal\n"
   ]
  },
  {
   "cell_type": "code",
   "execution_count": 81,
   "id": "ff587702",
   "metadata": {},
   "outputs": [
    {
     "data": {
      "text/plain": [
       "[1, 2, 3, 5, 7, 8, 9]"
      ]
     },
     "execution_count": 81,
     "metadata": {},
     "output_type": "execute_result"
    }
   ],
   "source": [
    "# Reversing a list which is equal of sorting in descending order \n",
    "list_literal.reverse()\n",
    "list_literal"
   ]
  },
  {
   "cell_type": "markdown",
   "id": "af4b064d",
   "metadata": {},
   "source": [
    "### Unpacking a list "
   ]
  },
  {
   "cell_type": "code",
   "execution_count": 36,
   "id": "7cabb586",
   "metadata": {},
   "outputs": [
    {
     "name": "stdout",
     "output_type": "stream",
     "text": [
      "1 3 5 6 7 8 9\n"
     ]
    }
   ],
   "source": [
    "# Unpacking a list \n",
    "print(*list_literal)"
   ]
  },
  {
   "cell_type": "markdown",
   "id": "de979bb9",
   "metadata": {},
   "source": [
    "If you want to unpack the first few elements of a list and don’t care about the other elements, you can:\n",
    "\n",
    "First, unpack the needed elements to variables.\n",
    "Second, pack the leftover elements into a new list and assign it to another variable.\n",
    "By putting the asterisk (*) in front of a variable name, you’ll pack the leftover elements into a list and assign them to a variable. For example:"
   ]
  },
  {
   "cell_type": "code",
   "execution_count": 39,
   "id": "19d2b649",
   "metadata": {},
   "outputs": [
    {
     "name": "stdout",
     "output_type": "stream",
     "text": [
      "red\n",
      "blue\n",
      "['green', 'yellow']\n"
     ]
    }
   ],
   "source": [
    "# More on Unpacking \n",
    "colors = ['red', 'blue', 'green', \"yellow\"]\n",
    "first, second, *other = colors\n",
    "\n",
    "print(red)\n",
    "print(blue)\n",
    "print(other)"
   ]
  },
  {
   "cell_type": "code",
   "execution_count": 41,
   "id": "a9e52ca6",
   "metadata": {},
   "outputs": [
    {
     "data": {
      "text/plain": [
       "[[1, 3, 5, 6, 7, 8, 9], [1, 2, 3]]"
      ]
     },
     "execution_count": 41,
     "metadata": {},
     "output_type": "execute_result"
    }
   ],
   "source": [
    "# Combinning 2 lists into 1 list \n",
    "\n",
    "combined_list = [list_literal,list_formal]\n",
    "combined_list"
   ]
  },
  {
   "cell_type": "code",
   "execution_count": 42,
   "id": "1d1cdff9",
   "metadata": {},
   "outputs": [
    {
     "data": {
      "text/plain": [
       "[1, 3, 5, 6, 7, 8, 9, 1, 2, 3]"
      ]
     },
     "execution_count": 42,
     "metadata": {},
     "output_type": "execute_result"
    }
   ],
   "source": [
    "# But we want elements of list1 and list2 into list3 \n",
    "combined_list = [*list_literal,*list_formal]\n",
    "combined_list"
   ]
  },
  {
   "cell_type": "code",
   "execution_count": 45,
   "id": "612ef497",
   "metadata": {},
   "outputs": [
    {
     "data": {
      "text/plain": [
       "[1, 3, 5, 6, 7, 8, 9, 1, 2, 3]"
      ]
     },
     "execution_count": 45,
     "metadata": {},
     "output_type": "execute_result"
    }
   ],
   "source": [
    "# Another syntax of combinning 2 lists \n",
    "combined_list = list_literal+list_formal\n",
    "combined_list"
   ]
  },
  {
   "cell_type": "code",
   "execution_count": 46,
   "id": "8435123d",
   "metadata": {},
   "outputs": [
    {
     "name": "stdout",
     "output_type": "stream",
     "text": [
      "15\n"
     ]
    }
   ],
   "source": [
    "# Passing list elements into function\n",
    "\n",
    "def add(a,b,c):\n",
    "    return a+b+c\n",
    "\n",
    "print(add(*[9,1,5]))"
   ]
  },
  {
   "cell_type": "markdown",
   "id": "11ece7c1",
   "metadata": {},
   "source": [
    "### Arthematic Opetaions on all list elements "
   ]
  },
  {
   "cell_type": "code",
   "execution_count": 86,
   "id": "9689cbff",
   "metadata": {},
   "outputs": [
    {
     "name": "stdout",
     "output_type": "stream",
     "text": [
      "[1, 2, 3, 5, 7, 8, 9]\n",
      "[1, 2, 3, 5, 7, 8, 9, 1, 2, 3, 5, 7, 8, 9, 1, 2, 3, 5, 7, 8, 9]\n"
     ]
    }
   ],
   "source": [
    "# Multiplying a list by some number will add same elements in same list, in number of time, it is multiplied \n",
    "\n",
    "print(list_literal)\n",
    "print(list_literal*3)"
   ]
  },
  {
   "cell_type": "code",
   "execution_count": 89,
   "id": "06edb1ad",
   "metadata": {},
   "outputs": [
    {
     "ename": "TypeError",
     "evalue": "unsupported operand type(s) for -: 'list' and 'int'",
     "output_type": "error",
     "traceback": [
      "\u001b[1;31m---------------------------------------------------------------------------\u001b[0m",
      "\u001b[1;31mTypeError\u001b[0m                                 Traceback (most recent call last)",
      "\u001b[1;32m~\\AppData\\Local\\Temp\\ipykernel_61628\\3289945372.py\u001b[0m in \u001b[0;36m<module>\u001b[1;34m\u001b[0m\n\u001b[1;32m----> 1\u001b[1;33m \u001b[0mprint\u001b[0m\u001b[1;33m(\u001b[0m\u001b[0mlist_literal\u001b[0m\u001b[1;33m-\u001b[0m\u001b[1;36m2\u001b[0m\u001b[1;33m)\u001b[0m\u001b[1;33m\u001b[0m\u001b[1;33m\u001b[0m\u001b[0m\n\u001b[0m",
      "\u001b[1;31mTypeError\u001b[0m: unsupported operand type(s) for -: 'list' and 'int'"
     ]
    }
   ],
   "source": [
    "print(list_literal-2)\n"
   ]
  },
  {
   "cell_type": "markdown",
   "id": "4119c400",
   "metadata": {},
   "source": [
    "# Tuples\n",
    "Discuss that we can create tuples, without brackets or tuple class, "
   ]
  },
  {
   "cell_type": "markdown",
   "id": "4e4c43b6",
   "metadata": {},
   "source": [
    "# Dictionaries\n",
    "discuss .format vs f string here"
   ]
  },
  {
   "cell_type": "markdown",
   "id": "b3f56422",
   "metadata": {},
   "source": [
    "# Sets\n",
    "discuss that set doesnot have any literal syntax"
   ]
  },
  {
   "cell_type": "markdown",
   "id": "e59a15ca",
   "metadata": {},
   "source": [
    "# Frozen Sets"
   ]
  },
  {
   "cell_type": "code",
   "execution_count": null,
   "id": "c87bb1d1",
   "metadata": {},
   "outputs": [],
   "source": []
  }
 ],
 "metadata": {
  "kernelspec": {
   "display_name": "Python 3 (ipykernel)",
   "language": "python",
   "name": "python3"
  },
  "language_info": {
   "codemirror_mode": {
    "name": "ipython",
    "version": 3
   },
   "file_extension": ".py",
   "mimetype": "text/x-python",
   "name": "python",
   "nbconvert_exporter": "python",
   "pygments_lexer": "ipython3",
   "version": "3.9.13"
  }
 },
 "nbformat": 4,
 "nbformat_minor": 5
}
