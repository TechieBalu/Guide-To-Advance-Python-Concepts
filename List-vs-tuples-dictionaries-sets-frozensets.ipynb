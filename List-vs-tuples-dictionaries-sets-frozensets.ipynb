{
 "cells": [
  {
   "cell_type": "markdown",
   "id": "cf460777",
   "metadata": {},
   "source": [
    "# Lists"
   ]
  },
  {
   "cell_type": "markdown",
   "id": "cfcc9187",
   "metadata": {},
   "source": [
    "### 1- Creation of list \n",
    "Method 1: with list class object  (formal notation)   \n",
    "Method 2: bracket syntax (literal notation) "
   ]
  },
  {
   "cell_type": "code",
   "execution_count": 40,
   "id": "0112f25e",
   "metadata": {},
   "outputs": [
    {
     "data": {
      "text/plain": [
       "[1, 2, 3]"
      ]
     },
     "execution_count": 40,
     "metadata": {},
     "output_type": "execute_result"
    }
   ],
   "source": [
    "# formal notation \n",
    "list_formal = list((1,2,3))\n",
    "l1"
   ]
  },
  {
   "cell_type": "code",
   "execution_count": 26,
   "id": "5d29e4bd",
   "metadata": {},
   "outputs": [],
   "source": [
    "# Literal notation\n",
    "list_literal = [1,2,3]"
   ]
  },
  {
   "cell_type": "code",
   "execution_count": 27,
   "id": "c25d5348",
   "metadata": {},
   "outputs": [],
   "source": [
    "# Creation of big list can be time taking, and time Efficiency of literal format is higher than the formal notation"
   ]
  },
  {
   "cell_type": "code",
   "execution_count": 28,
   "id": "dc2746ae",
   "metadata": {},
   "outputs": [
    {
     "data": {
      "text/plain": [
       "[1, 2, 3, 5]"
      ]
     },
     "execution_count": 28,
     "metadata": {},
     "output_type": "execute_result"
    }
   ],
   "source": [
    "# Useful functions of lists: \n",
    "\n",
    "# Appending: \n",
    "list_literal.append(5)\n",
    "list_literal"
   ]
  },
  {
   "cell_type": "code",
   "execution_count": 29,
   "id": "a9f3d511",
   "metadata": {},
   "outputs": [
    {
     "data": {
      "text/plain": [
       "[1, 2, 10, 3, 5]"
      ]
     },
     "execution_count": 29,
     "metadata": {},
     "output_type": "execute_result"
    }
   ],
   "source": [
    "# Inserting\n",
    "\n",
    "list_literal.insert(2,10)\n",
    "list_literal\n",
    "\n",
    "# Added 10 at index 2"
   ]
  },
  {
   "cell_type": "code",
   "execution_count": 30,
   "id": "0eff3f44",
   "metadata": {},
   "outputs": [
    {
     "data": {
      "text/plain": [
       "[1, 2, 10, 3]"
      ]
     },
     "execution_count": 30,
     "metadata": {},
     "output_type": "execute_result"
    }
   ],
   "source": [
    "# Deleting last item\n",
    "list_literal.pop()\n",
    "\n",
    "list_literal"
   ]
  },
  {
   "cell_type": "code",
   "execution_count": 31,
   "id": "b78d0b0a",
   "metadata": {},
   "outputs": [
    {
     "data": {
      "text/plain": [
       "[1, 2, 3]"
      ]
     },
     "execution_count": 31,
     "metadata": {},
     "output_type": "execute_result"
    }
   ],
   "source": [
    "# Removing/Deleting a specific element (first occurance)\n",
    "\n",
    "list_literal.remove(10)\n",
    "list_literal"
   ]
  },
  {
   "cell_type": "code",
   "execution_count": 32,
   "id": "37928f69",
   "metadata": {},
   "outputs": [
    {
     "data": {
      "text/plain": [
       "[1, 3]"
      ]
     },
     "execution_count": 32,
     "metadata": {},
     "output_type": "execute_result"
    }
   ],
   "source": [
    "# Removing Element at specified index\n",
    "\n",
    "# we use pop() for this operation, by default, pop has -1 index, but we can pass desired index\n",
    "list_literal.pop(1)\n",
    "list_literal"
   ]
  },
  {
   "cell_type": "code",
   "execution_count": 33,
   "id": "ff827bfe",
   "metadata": {},
   "outputs": [
    {
     "data": {
      "text/plain": [
       "[1, 3, 5, 6, 7, 8, 9]"
      ]
     },
     "execution_count": 33,
     "metadata": {},
     "output_type": "execute_result"
    }
   ],
   "source": [
    "# Adding another list into other list\n",
    "\n",
    "list_literal.extend([5,6,7,8,9])\n",
    "list_literal"
   ]
  },
  {
   "cell_type": "code",
   "execution_count": 34,
   "id": "32e121a6",
   "metadata": {},
   "outputs": [
    {
     "data": {
      "text/plain": [
       "7"
      ]
     },
     "execution_count": 34,
     "metadata": {},
     "output_type": "execute_result"
    }
   ],
   "source": [
    "# Finding length of list\n",
    "len(list_literal)"
   ]
  },
  {
   "cell_type": "code",
   "execution_count": 35,
   "id": "6d6d22b3",
   "metadata": {},
   "outputs": [
    {
     "data": {
      "text/plain": [
       "1"
      ]
     },
     "execution_count": 35,
     "metadata": {},
     "output_type": "execute_result"
    }
   ],
   "source": [
    "# Counting the number, an element repeated in a list \n",
    "\n",
    "# Number of time 5 is repeated in a list\n",
    "list_literal.count(5)"
   ]
  },
  {
   "cell_type": "code",
   "execution_count": 36,
   "id": "1bad3b36",
   "metadata": {},
   "outputs": [
    {
     "name": "stdout",
     "output_type": "stream",
     "text": [
      "1 3 5 6 7 8 9\n"
     ]
    }
   ],
   "source": [
    "# Unpacking a list \n",
    "print(*list_literal)"
   ]
  },
  {
   "cell_type": "markdown",
   "id": "27e254ae",
   "metadata": {},
   "source": [
    "If you want to unpack the first few elements of a list and don’t care about the other elements, you can:\n",
    "\n",
    "First, unpack the needed elements to variables.\n",
    "Second, pack the leftover elements into a new list and assign it to another variable.\n",
    "By putting the asterisk (*) in front of a variable name, you’ll pack the leftover elements into a list and assign them to a variable. For example:"
   ]
  },
  {
   "cell_type": "code",
   "execution_count": 39,
   "id": "be9e090d",
   "metadata": {},
   "outputs": [
    {
     "name": "stdout",
     "output_type": "stream",
     "text": [
      "red\n",
      "blue\n",
      "['green', 'yellow']\n"
     ]
    }
   ],
   "source": [
    "# More on Unpacking \n",
    "colors = ['red', 'blue', 'green', \"yellow\"]\n",
    "first, second, *other = colors\n",
    "\n",
    "print(red)\n",
    "print(blue)\n",
    "print(other)"
   ]
  },
  {
   "cell_type": "code",
   "execution_count": 41,
   "id": "54b2a27c",
   "metadata": {},
   "outputs": [
    {
     "data": {
      "text/plain": [
       "[[1, 3, 5, 6, 7, 8, 9], [1, 2, 3]]"
      ]
     },
     "execution_count": 41,
     "metadata": {},
     "output_type": "execute_result"
    }
   ],
   "source": [
    "# Combinning 2 lists into 1 list \n",
    "\n",
    "combined_list = [list_literal,list_formal]\n",
    "combined_list"
   ]
  },
  {
   "cell_type": "code",
   "execution_count": 42,
   "id": "2d57fbaf",
   "metadata": {},
   "outputs": [
    {
     "data": {
      "text/plain": [
       "[1, 3, 5, 6, 7, 8, 9, 1, 2, 3]"
      ]
     },
     "execution_count": 42,
     "metadata": {},
     "output_type": "execute_result"
    }
   ],
   "source": [
    "# But we want elements of list1 and list2 into list3 \n",
    "combined_list = [*list_literal,*list_formal]\n",
    "combined_list"
   ]
  },
  {
   "cell_type": "code",
   "execution_count": 44,
   "id": "eeaf5d66",
   "metadata": {},
   "outputs": [
    {
     "data": {
      "text/plain": [
       "[1, 3, 5, 6, 7, 8, 9, 1, 2, 3]"
      ]
     },
     "execution_count": 44,
     "metadata": {},
     "output_type": "execute_result"
    }
   ],
   "source": [
    "combined_list = list_literal+list_formal\n",
    "combined_list"
   ]
  },
  {
   "cell_type": "code",
   "execution_count": null,
   "id": "a05b1302",
   "metadata": {},
   "outputs": [],
   "source": []
  },
  {
   "cell_type": "markdown",
   "id": "cbc0153b",
   "metadata": {},
   "source": [
    "# Tuples\n",
    "Discuss that we can create tuples, without brackets or tuple class, "
   ]
  },
  {
   "cell_type": "markdown",
   "id": "b0ce13fb",
   "metadata": {},
   "source": [
    "# Dictionaries\n",
    "discuss .format vs f string here"
   ]
  },
  {
   "cell_type": "markdown",
   "id": "609cd8dd",
   "metadata": {},
   "source": [
    "# Sets\n",
    "discuss that set doesnot have any literal syntax"
   ]
  },
  {
   "cell_type": "markdown",
   "id": "eb82b286",
   "metadata": {},
   "source": [
    "# Frozen Sets"
   ]
  },
  {
   "cell_type": "code",
   "execution_count": null,
   "id": "d01f72ad",
   "metadata": {},
   "outputs": [],
   "source": []
  }
 ],
 "metadata": {
  "kernelspec": {
   "display_name": "Python 3 (ipykernel)",
   "language": "python",
   "name": "python3"
  },
  "language_info": {
   "codemirror_mode": {
    "name": "ipython",
    "version": 3
   },
   "file_extension": ".py",
   "mimetype": "text/x-python",
   "name": "python",
   "nbconvert_exporter": "python",
   "pygments_lexer": "ipython3",
   "version": "3.9.13"
  }
 },
 "nbformat": 4,
 "nbformat_minor": 5
}
