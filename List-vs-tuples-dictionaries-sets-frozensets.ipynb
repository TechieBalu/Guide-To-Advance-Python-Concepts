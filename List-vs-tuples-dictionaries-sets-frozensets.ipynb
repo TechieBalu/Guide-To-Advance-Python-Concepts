{
 "cells": [
  {
   "cell_type": "markdown",
   "id": "627cd63e",
   "metadata": {},
   "source": [
    "# Lists\n",
    "- Functions \n",
    "- Unpacking \n",
    "- Multiplication operations \n",
    "- Slicing \n",
    "- Finding an element in list\n",
    "- Efficient way to work with lists "
   ]
  },
  {
   "cell_type": "markdown",
   "id": "c17f9b01",
   "metadata": {},
   "source": [
    "## Creation of list \n",
    "Method 1: with list class object  (formal notation)   \n",
    "Method 2: bracket syntax (literal notation) "
   ]
  },
  {
   "cell_type": "code",
   "execution_count": 14,
   "id": "9e815bd6",
   "metadata": {},
   "outputs": [
    {
     "data": {
      "text/plain": [
       "[1, 2, 3]"
      ]
     },
     "execution_count": 14,
     "metadata": {},
     "output_type": "execute_result"
    }
   ],
   "source": [
    "# formal notation \n",
    "list_formal = list((1,2,3))\n",
    "list_formal"
   ]
  },
  {
   "cell_type": "code",
   "execution_count": 15,
   "id": "02879e40",
   "metadata": {},
   "outputs": [],
   "source": [
    "# Literal notation\n",
    "list_literal = [1,2,3]"
   ]
  },
  {
   "cell_type": "code",
   "execution_count": 16,
   "id": "312209c3",
   "metadata": {},
   "outputs": [],
   "source": [
    "# Creation of big list can be time taking, and time Efficiency of literal format is higher than the formal notation"
   ]
  },
  {
   "cell_type": "markdown",
   "id": "c1568bf6",
   "metadata": {},
   "source": [
    "### List functions\n",
    "- append()\n",
    "- insert()\n",
    "- pop()\n",
    "- remove()\n",
    "- extend()\n",
    "- len()\n",
    "- count() \n",
    "- index()\n",
    "- sort() \n",
    "- reverse()\n",
    "- clear() \n",
    "- del"
   ]
  },
  {
   "cell_type": "code",
   "execution_count": 17,
   "id": "32e78649",
   "metadata": {},
   "outputs": [
    {
     "data": {
      "text/plain": [
       "[1, 2, 3, 5]"
      ]
     },
     "execution_count": 17,
     "metadata": {},
     "output_type": "execute_result"
    }
   ],
   "source": [
    "# Useful functions of lists: \n",
    "\n",
    "# Appending: \n",
    "list_literal.append(5)\n",
    "list_literal"
   ]
  },
  {
   "cell_type": "code",
   "execution_count": 18,
   "id": "04b08527",
   "metadata": {},
   "outputs": [
    {
     "data": {
      "text/plain": [
       "[1, 2, 10, 3, 5]"
      ]
     },
     "execution_count": 18,
     "metadata": {},
     "output_type": "execute_result"
    }
   ],
   "source": [
    "# Inserting\n",
    "\n",
    "list_literal.insert(2,10)\n",
    "list_literal\n",
    "\n",
    "# Added 10 at index 2"
   ]
  },
  {
   "cell_type": "code",
   "execution_count": 19,
   "id": "db700e1e",
   "metadata": {},
   "outputs": [
    {
     "data": {
      "text/plain": [
       "[1, 2, 10, 3]"
      ]
     },
     "execution_count": 19,
     "metadata": {},
     "output_type": "execute_result"
    }
   ],
   "source": [
    "# Deleting last item\n",
    "list_literal.pop()\n",
    "\n",
    "list_literal"
   ]
  },
  {
   "cell_type": "code",
   "execution_count": 20,
   "id": "44599186",
   "metadata": {},
   "outputs": [
    {
     "data": {
      "text/plain": [
       "[1, 2, 3]"
      ]
     },
     "execution_count": 20,
     "metadata": {},
     "output_type": "execute_result"
    }
   ],
   "source": [
    "# Removing/Deleting a specific element (first occurance)\n",
    "\n",
    "list_literal.remove(10)\n",
    "list_literal"
   ]
  },
  {
   "cell_type": "code",
   "execution_count": 21,
   "id": "aec93754",
   "metadata": {},
   "outputs": [
    {
     "data": {
      "text/plain": [
       "[1, 3]"
      ]
     },
     "execution_count": 21,
     "metadata": {},
     "output_type": "execute_result"
    }
   ],
   "source": [
    "# Removing Element at specified index\n",
    "\n",
    "# we use pop() for this operation, by default, pop has -1 index, but we can pass desired index\n",
    "list_literal.pop(1)\n",
    "list_literal"
   ]
  },
  {
   "cell_type": "code",
   "execution_count": 22,
   "id": "c801d15f",
   "metadata": {},
   "outputs": [
    {
     "data": {
      "text/plain": [
       "[1, 3, 5, 2, 7, 8, 9]"
      ]
     },
     "execution_count": 22,
     "metadata": {},
     "output_type": "execute_result"
    }
   ],
   "source": [
    "# Adding another list into other list\n",
    "\n",
    "list_literal.extend([5,2,7,8,9])\n",
    "list_literal"
   ]
  },
  {
   "cell_type": "code",
   "execution_count": 23,
   "id": "897970c8",
   "metadata": {},
   "outputs": [
    {
     "data": {
      "text/plain": [
       "7"
      ]
     },
     "execution_count": 23,
     "metadata": {},
     "output_type": "execute_result"
    }
   ],
   "source": [
    "# Finding length of list\n",
    "len(list_literal)"
   ]
  },
  {
   "cell_type": "code",
   "execution_count": 24,
   "id": "ed8269c2",
   "metadata": {},
   "outputs": [
    {
     "data": {
      "text/plain": [
       "1"
      ]
     },
     "execution_count": 24,
     "metadata": {},
     "output_type": "execute_result"
    }
   ],
   "source": [
    "# Counting the number, an element repeated in a list \n",
    "\n",
    "# Number of time 5 is repeated in a list\n",
    "list_literal.count(5)"
   ]
  },
  {
   "cell_type": "code",
   "execution_count": 25,
   "id": "6269792e",
   "metadata": {},
   "outputs": [
    {
     "name": "stdout",
     "output_type": "stream",
     "text": [
      "[]\n"
     ]
    }
   ],
   "source": [
    "# Clearing all the elements of list: \n",
    "list_to_clear = [1,2,3,4,5]\n",
    "list_to_clear.clear()\n",
    "\n",
    "print(list_to_clear)\n",
    "    "
   ]
  },
  {
   "cell_type": "code",
   "execution_count": 26,
   "id": "3fdf1000",
   "metadata": {},
   "outputs": [
    {
     "name": "stdout",
     "output_type": "stream",
     "text": [
      "[]\n"
     ]
    }
   ],
   "source": [
    "# Another syntax to clear a list \n",
    "list_to_clear = [1,2,3,4,5]\n",
    "\n",
    "del list_to_clear[:]\n",
    "print(list_to_clear)"
   ]
  },
  {
   "cell_type": "code",
   "execution_count": 27,
   "id": "4e641e4e",
   "metadata": {},
   "outputs": [],
   "source": [
    "# Deleting a list \n",
    "del list_to_clear\n",
    "\n",
    "# list_to_clear"
   ]
  },
  {
   "cell_type": "code",
   "execution_count": 28,
   "id": "99c06748",
   "metadata": {},
   "outputs": [
    {
     "data": {
      "text/plain": [
       "2"
      ]
     },
     "execution_count": 28,
     "metadata": {},
     "output_type": "execute_result"
    }
   ],
   "source": [
    "# Find index of any element in list \n",
    "list_literal.index(5)"
   ]
  },
  {
   "cell_type": "code",
   "execution_count": 29,
   "id": "da8fcd5e",
   "metadata": {},
   "outputs": [
    {
     "name": "stdout",
     "output_type": "stream",
     "text": [
      "[1, 2, 3, 5, 7, 8, 9]\n"
     ]
    }
   ],
   "source": [
    "# Sorting list in ascending order \n",
    "list_literal.sort()\n",
    "print(list_literal)"
   ]
  },
  {
   "cell_type": "code",
   "execution_count": 30,
   "id": "39e1278f",
   "metadata": {},
   "outputs": [
    {
     "data": {
      "text/plain": [
       "[9, 8, 7, 5, 3, 2, 1]"
      ]
     },
     "execution_count": 30,
     "metadata": {},
     "output_type": "execute_result"
    }
   ],
   "source": [
    "# Sorting list in descending order \n",
    "list_literal.sort(reverse = True )\n",
    "list_literal\n"
   ]
  },
  {
   "cell_type": "code",
   "execution_count": 31,
   "id": "c26bdc9b",
   "metadata": {},
   "outputs": [
    {
     "data": {
      "text/plain": [
       "[1, 2, 3, 5, 7, 8, 9]"
      ]
     },
     "execution_count": 31,
     "metadata": {},
     "output_type": "execute_result"
    }
   ],
   "source": [
    "# Reversing a list which is equal of sorting in descending order \n",
    "list_literal.reverse()\n",
    "list_literal"
   ]
  },
  {
   "cell_type": "markdown",
   "id": "bb5ab590",
   "metadata": {},
   "source": [
    "### Unpacking a list \n",
    "using an asterisk () before the list name. This is called “unpacking” or “splat” operator. It can be used in different scenarios such as function arguments or in assigning values to multiple variables."
   ]
  },
  {
   "cell_type": "code",
   "execution_count": 32,
   "id": "75033b8f",
   "metadata": {},
   "outputs": [
    {
     "name": "stdout",
     "output_type": "stream",
     "text": [
      "1 2 3 5 7 8 9\n"
     ]
    }
   ],
   "source": [
    "# Unpacking a list \n",
    "print(*list_literal)"
   ]
  },
  {
   "cell_type": "markdown",
   "id": "de4a15f1",
   "metadata": {},
   "source": [
    "If you want to unpack the first few elements of a list and don’t care about the other elements, you can:\n",
    "\n",
    "First, unpack the needed elements to variables.\n",
    "Second, pack the leftover elements into a new list and assign it to another variable.\n",
    "By putting the asterisk (*) in front of a variable name, you’ll pack the leftover elements into a list and assign them to a variable. For example:"
   ]
  },
  {
   "cell_type": "code",
   "execution_count": 35,
   "id": "5cbb8cd4",
   "metadata": {},
   "outputs": [
    {
     "name": "stdout",
     "output_type": "stream",
     "text": [
      "red\n",
      "blue\n",
      "['green', 'yellow']\n"
     ]
    }
   ],
   "source": [
    "# More on Unpacking \n",
    "colors = ['red', 'blue', 'green', \"yellow\"]\n",
    "first, second, *other = colors\n",
    "\n",
    "print(first)\n",
    "print(second)\n",
    "print(other)"
   ]
  },
  {
   "cell_type": "code",
   "execution_count": 39,
   "id": "b0f95c71",
   "metadata": {},
   "outputs": [
    {
     "data": {
      "text/plain": [
       "[[1, 2, 3, 5, 7, 8, 9], [1, 2, 3]]"
      ]
     },
     "execution_count": 39,
     "metadata": {},
     "output_type": "execute_result"
    }
   ],
   "source": [
    "# Combinning 2 lists into 1 list \n",
    "\n",
    "combined_list = [list_literal,list_formal]\n",
    "combined_list"
   ]
  },
  {
   "cell_type": "code",
   "execution_count": 40,
   "id": "33f12ce3",
   "metadata": {},
   "outputs": [
    {
     "data": {
      "text/plain": [
       "[1, 2, 3, 5, 7, 8, 9, 1, 2, 3]"
      ]
     },
     "execution_count": 40,
     "metadata": {},
     "output_type": "execute_result"
    }
   ],
   "source": [
    "# But we want elements of list1 and list2 into list3 \n",
    "combined_list = [*list_literal,*list_formal]\n",
    "combined_list"
   ]
  },
  {
   "cell_type": "code",
   "execution_count": 41,
   "id": "7376fa78",
   "metadata": {},
   "outputs": [
    {
     "data": {
      "text/plain": [
       "[1, 2, 3, 5, 7, 8, 9, 1, 2, 3]"
      ]
     },
     "execution_count": 41,
     "metadata": {},
     "output_type": "execute_result"
    }
   ],
   "source": [
    "# Another syntax of combinning 2 lists \n",
    "combined_list = list_literal+list_formal\n",
    "combined_list"
   ]
  },
  {
   "cell_type": "code",
   "execution_count": 42,
   "id": "cb454f22",
   "metadata": {},
   "outputs": [
    {
     "name": "stdout",
     "output_type": "stream",
     "text": [
      "15\n"
     ]
    }
   ],
   "source": [
    "# Passing list elements into function\n",
    "\n",
    "def add(a,b,c):\n",
    "    return a+b+c\n",
    "\n",
    "print(add(*[9,1,5]))"
   ]
  },
  {
   "cell_type": "code",
   "execution_count": 43,
   "id": "5d482d39",
   "metadata": {},
   "outputs": [
    {
     "name": "stdout",
     "output_type": "stream",
     "text": [
      "1 [2, 3, 4, 5] 6\n"
     ]
    }
   ],
   "source": [
    "a,*b,c = [1,2,3,4,5,6]\n",
    "print(a,b,c)"
   ]
  },
  {
   "cell_type": "code",
   "execution_count": 44,
   "id": "cb5a067b",
   "metadata": {},
   "outputs": [
    {
     "name": "stdout",
     "output_type": "stream",
     "text": [
      "1 2 [3, 4, 5, 6]\n"
     ]
    }
   ],
   "source": [
    "a,b,*c = [1,2,3,4,5,6]\n",
    "print(a,b,c)"
   ]
  },
  {
   "cell_type": "code",
   "execution_count": 45,
   "id": "e09395ef",
   "metadata": {},
   "outputs": [
    {
     "name": "stdout",
     "output_type": "stream",
     "text": [
      "[1, 2, 3, 4] 5 6\n"
     ]
    }
   ],
   "source": [
    "*a,b,c = [1,2,3,4,5,6]\n",
    "print(a,b,c)"
   ]
  },
  {
   "cell_type": "markdown",
   "id": "ad7b80dc",
   "metadata": {},
   "source": [
    "Packing values in a variable with the * operator can be handy when we need to collect the elements of a generator in a single variable without using the list() function. In the following examples, we use the * operator to pack the elements of a generator expression and a range object to a individual variable"
   ]
  },
  {
   "cell_type": "code",
   "execution_count": 46,
   "id": "66a944ea",
   "metadata": {},
   "outputs": [
    {
     "data": {
      "text/plain": [
       "<generator object <genexpr> at 0x000001B1D2A9E660>"
      ]
     },
     "execution_count": 46,
     "metadata": {},
     "output_type": "execute_result"
    }
   ],
   "source": [
    "gen = (x**2 for x in range (10))\n",
    "gen"
   ]
  },
  {
   "cell_type": "code",
   "execution_count": 47,
   "id": "fc719274",
   "metadata": {},
   "outputs": [
    {
     "name": "stdout",
     "output_type": "stream",
     "text": [
      "[0, 1, 4, 9, 16, 25, 36, 49, 64, 81]\n"
     ]
    }
   ],
   "source": [
    "# We can unpack this generator object using * \n",
    "# IMPORTANT, We need trailling comma \n",
    "\n",
    "*gen_unpack, = gen \n",
    "print(gen_unpack)"
   ]
  },
  {
   "cell_type": "code",
   "execution_count": 48,
   "id": "9e50c7a2",
   "metadata": {},
   "outputs": [
    {
     "data": {
      "text/plain": [
       "range(0, 10)"
      ]
     },
     "execution_count": 48,
     "metadata": {},
     "output_type": "execute_result"
    }
   ],
   "source": [
    "# We can do the same with range object as well \n",
    "ran = range(10)\n",
    "ran"
   ]
  },
  {
   "cell_type": "code",
   "execution_count": 54,
   "id": "4cc6f9f7",
   "metadata": {},
   "outputs": [
    {
     "data": {
      "text/plain": [
       "[0, 1, 2, 3, 4, 5, 6, 7, 8, 9]"
      ]
     },
     "execution_count": 54,
     "metadata": {},
     "output_type": "execute_result"
    }
   ],
   "source": [
    "*range_unpack, = ran\n",
    "\n",
    "range_unpack"
   ]
  },
  {
   "cell_type": "code",
   "execution_count": 55,
   "id": "fb4be1b3",
   "metadata": {},
   "outputs": [
    {
     "data": {
      "text/plain": [
       "[3, 4, 5]"
      ]
     },
     "execution_count": 55,
     "metadata": {},
     "output_type": "execute_result"
    }
   ],
   "source": [
    "args = [3, 6]\n",
    "list(range(*args))"
   ]
  },
  {
   "cell_type": "markdown",
   "id": "19f956ad",
   "metadata": {},
   "source": [
    "### Multiplication Opetaion on  lists "
   ]
  },
  {
   "cell_type": "code",
   "execution_count": 50,
   "id": "c85ef8fd",
   "metadata": {},
   "outputs": [
    {
     "name": "stdout",
     "output_type": "stream",
     "text": [
      "[1, 2, 3, 5, 7, 8, 9]\n",
      "[1, 2, 3, 5, 7, 8, 9, 1, 2, 3, 5, 7, 8, 9, 1, 2, 3, 5, 7, 8, 9]\n"
     ]
    }
   ],
   "source": [
    "# Multiplying a list by some number will add same elements in same list, in number of time, it is multiplied \n",
    "\n",
    "print(list_literal)\n",
    "print(list_literal*3)"
   ]
  },
  {
   "cell_type": "markdown",
   "id": "7ff0e0bd",
   "metadata": {},
   "source": [
    "### Finding an element in list"
   ]
  },
  {
   "cell_type": "code",
   "execution_count": 52,
   "id": "89e5ec5f",
   "metadata": {},
   "outputs": [
    {
     "name": "stdout",
     "output_type": "stream",
     "text": [
      "True\n"
     ]
    }
   ],
   "source": [
    "print(3 in list_literal)"
   ]
  },
  {
   "cell_type": "code",
   "execution_count": null,
   "id": "7b30dbb5",
   "metadata": {},
   "outputs": [],
   "source": []
  },
  {
   "cell_type": "markdown",
   "id": "4749aac2",
   "metadata": {},
   "source": [
    "### Slicing\n",
    "\n",
    "**Important**   \n",
    "Slicing always returns shallow copy"
   ]
  },
  {
   "cell_type": "code",
   "execution_count": 56,
   "id": "9fc9644a",
   "metadata": {},
   "outputs": [
    {
     "data": {
      "text/plain": [
       "[1, 2, 3, 5, 7, 8, 9]"
      ]
     },
     "execution_count": 56,
     "metadata": {},
     "output_type": "execute_result"
    }
   ],
   "source": [
    "list_literal"
   ]
  },
  {
   "cell_type": "code",
   "execution_count": 57,
   "id": "f71c1b2d",
   "metadata": {},
   "outputs": [
    {
     "data": {
      "text/plain": [
       "[1, 2, 3, 5, 7, 8, 9]"
      ]
     },
     "execution_count": 57,
     "metadata": {},
     "output_type": "execute_result"
    }
   ],
   "source": [
    "# To get all elements \n",
    "list_literal[:]"
   ]
  },
  {
   "cell_type": "code",
   "execution_count": 59,
   "id": "032e0c2e",
   "metadata": {},
   "outputs": [
    {
     "data": {
      "text/plain": [
       "[1, 2]"
      ]
     },
     "execution_count": 59,
     "metadata": {},
     "output_type": "execute_result"
    }
   ],
   "source": [
    "# Get first 2 elements \n",
    "list_literal[0:2]"
   ]
  },
  {
   "cell_type": "code",
   "execution_count": 60,
   "id": "fa2ef3f6",
   "metadata": {},
   "outputs": [
    {
     "data": {
      "text/plain": [
       "[3, 5, 7, 8, 9]"
      ]
     },
     "execution_count": 60,
     "metadata": {},
     "output_type": "execute_result"
    }
   ],
   "source": [
    "# Skip first 2 and get remainning \n",
    "list_literal[2:]"
   ]
  },
  {
   "cell_type": "code",
   "execution_count": 62,
   "id": "f214dc92",
   "metadata": {},
   "outputs": [
    {
     "data": {
      "text/plain": [
       "[3, 5, 7]"
      ]
     },
     "execution_count": 62,
     "metadata": {},
     "output_type": "execute_result"
    }
   ],
   "source": [
    "# Get index 2-4 elements , 4 inclusive\n",
    "list_literal[2:5]"
   ]
  },
  {
   "cell_type": "code",
   "execution_count": 63,
   "id": "1f7527ac",
   "metadata": {},
   "outputs": [
    {
     "data": {
      "text/plain": [
       "[9]"
      ]
     },
     "execution_count": 63,
     "metadata": {},
     "output_type": "execute_result"
    }
   ],
   "source": [
    "# from -1 to last\n",
    "list_literal[-1:]"
   ]
  },
  {
   "cell_type": "code",
   "execution_count": 64,
   "id": "35d7ba67",
   "metadata": {},
   "outputs": [
    {
     "data": {
      "text/plain": [
       "[7, 8, 9]"
      ]
     },
     "execution_count": 64,
     "metadata": {},
     "output_type": "execute_result"
    }
   ],
   "source": [
    "# from -3 to last\n",
    "list_literal[-3:]"
   ]
  },
  {
   "cell_type": "code",
   "execution_count": 67,
   "id": "1537a9f8",
   "metadata": {},
   "outputs": [
    {
     "data": {
      "text/plain": [
       "[1, 2, 3, 5, 7, 8, 9]"
      ]
     },
     "execution_count": 67,
     "metadata": {},
     "output_type": "execute_result"
    }
   ],
   "source": [
    "list_literal[:]"
   ]
  },
  {
   "cell_type": "code",
   "execution_count": 70,
   "id": "74725a0f",
   "metadata": {},
   "outputs": [
    {
     "data": {
      "text/plain": [
       "[7, 8]"
      ]
     },
     "execution_count": 70,
     "metadata": {},
     "output_type": "execute_result"
    }
   ],
   "source": [
    "list_literal[-3:6]"
   ]
  },
  {
   "cell_type": "code",
   "execution_count": 76,
   "id": "ae3935a1",
   "metadata": {},
   "outputs": [
    {
     "data": {
      "text/plain": [
       "[7, 8]"
      ]
     },
     "execution_count": 76,
     "metadata": {},
     "output_type": "execute_result"
    }
   ],
   "source": [
    "list_literal[-3:-1]"
   ]
  },
  {
   "cell_type": "code",
   "execution_count": 78,
   "id": "f06bbeb9",
   "metadata": {},
   "outputs": [
    {
     "data": {
      "text/plain": [
       "[2, 5]"
      ]
     },
     "execution_count": 78,
     "metadata": {},
     "output_type": "execute_result"
    }
   ],
   "source": [
    "# slicing with step of 2\n",
    "list_literal[1:4:2]"
   ]
  },
  {
   "cell_type": "code",
   "execution_count": 80,
   "id": "ac265e50",
   "metadata": {},
   "outputs": [
    {
     "data": {
      "text/plain": [
       "[2, 5]"
      ]
     },
     "execution_count": 80,
     "metadata": {},
     "output_type": "execute_result"
    }
   ],
   "source": [
    "list_literal[-6:4:2]"
   ]
  },
  {
   "cell_type": "code",
   "execution_count": 84,
   "id": "be7803c0",
   "metadata": {},
   "outputs": [
    {
     "data": {
      "text/plain": [
       "[2]"
      ]
     },
     "execution_count": 84,
     "metadata": {},
     "output_type": "execute_result"
    }
   ],
   "source": [
    "# Negativing stepping, move the start end from right to left \n",
    "# befault slicing moves from right to left either it's negative indexing or positive \n",
    "list_literal[-6:0:-2]"
   ]
  },
  {
   "cell_type": "code",
   "execution_count": 85,
   "id": "47b62865",
   "metadata": {},
   "outputs": [
    {
     "data": {
      "text/plain": [
       "['geeks !']"
      ]
     },
     "execution_count": 85,
     "metadata": {},
     "output_type": "execute_result"
    }
   ],
   "source": [
    "List = ['Geeks', 4, 'geeks !']\n",
    "List[:1:-2]"
   ]
  },
  {
   "cell_type": "markdown",
   "id": "de8e1206",
   "metadata": {},
   "source": [
    "# Tuples\n",
    "\n",
    "Description: Tuple are immutable, which means we cannot add,delete in tuples, if we do something like that, the memory address of tuples will change that violates the mutability principle  \n",
    "**Topics to cover:**  \n",
    "1. Tuple Creation Methods: \n",
    "    - Formal notation \n",
    "    - Literal notation\n",
    "    - without any notation (Since all these variations are valid Python syntax, we can use any of them, depending on the situation. Arguably, the last syntax is more commonly used when it comes to unpacking in Python.)    \n",
    "    \n",
    "\n",
    "2. Methods on Tuples\n",
    "3. Access Values \n",
    "4. Delete Tuple \n",
    "5. Concat Tuple \n",
    "6. Slicing Tuple\n",
    "6. Theory of Tuples \n",
    "\n",
    "Discuss that we can create tuples, without brackets or tuple class, \n",
    "To create a tuple object, we don't need to use a pair of parentheses () as delimiters. "
   ]
  },
  {
   "cell_type": "code",
   "execution_count": 89,
   "id": "1b87f687",
   "metadata": {},
   "outputs": [
    {
     "name": "stdout",
     "output_type": "stream",
     "text": [
      "<class 'tuple'>\n"
     ]
    },
    {
     "data": {
      "text/plain": [
       "(1, 2, 3)"
      ]
     },
     "execution_count": 89,
     "metadata": {},
     "output_type": "execute_result"
    }
   ],
   "source": [
    "# TUPLE Creation 1\n",
    "\n",
    "tuple1 = tuple((1,2,3))\n",
    "print(type(tuple1))\n",
    "tuple1\n"
   ]
  },
  {
   "cell_type": "code",
   "execution_count": 91,
   "id": "dd6a5332",
   "metadata": {},
   "outputs": [
    {
     "name": "stdout",
     "output_type": "stream",
     "text": [
      "<class 'tuple'>\n"
     ]
    },
    {
     "data": {
      "text/plain": [
       "(1, 2, 3, 4, 5)"
      ]
     },
     "execution_count": 91,
     "metadata": {},
     "output_type": "execute_result"
    }
   ],
   "source": [
    "# TUPLE Creation 2 \n",
    "tuple2 = (1,2,3,4,5)\n",
    "print(type(tuple2))\n",
    "tuple2"
   ]
  },
  {
   "cell_type": "code",
   "execution_count": 93,
   "id": "9661f2b3",
   "metadata": {},
   "outputs": [
    {
     "name": "stdout",
     "output_type": "stream",
     "text": [
      "<class 'tuple'>\n"
     ]
    },
    {
     "data": {
      "text/plain": [
       "(1, 2, 3, 4, 5, 6, 7, 8)"
      ]
     },
     "execution_count": 93,
     "metadata": {},
     "output_type": "execute_result"
    }
   ],
   "source": [
    "# TUPLE Creation 3 \n",
    "tuple3 = 1,2,3,4,5,6,7,8\n",
    "print(type(tuple3))\n",
    "tuple3"
   ]
  },
  {
   "cell_type": "code",
   "execution_count": 94,
   "id": "7bb8de0b",
   "metadata": {},
   "outputs": [
    {
     "data": {
      "text/plain": [
       "(1, 2, 3, 'Khan', 0.9, ['Pakistan'])"
      ]
     },
     "execution_count": 94,
     "metadata": {},
     "output_type": "execute_result"
    }
   ],
   "source": [
    "# we can store multiple data types in a tuple \n",
    "tuple4 = 1,2,3,\"Khan\",0.90,[\"Pakistan\"]\n",
    "tuple4"
   ]
  },
  {
   "cell_type": "markdown",
   "id": "657df880",
   "metadata": {},
   "source": [
    "### Methods\n",
    "1. min()\n",
    "2. max()\n",
    "3. len()"
   ]
  },
  {
   "cell_type": "code",
   "execution_count": 96,
   "id": "f66531ad",
   "metadata": {},
   "outputs": [
    {
     "data": {
      "text/plain": [
       "1"
      ]
     },
     "execution_count": 96,
     "metadata": {},
     "output_type": "execute_result"
    }
   ],
   "source": [
    "min(tuple3)"
   ]
  },
  {
   "cell_type": "code",
   "execution_count": 97,
   "id": "8c157f6c",
   "metadata": {},
   "outputs": [
    {
     "data": {
      "text/plain": [
       "8"
      ]
     },
     "execution_count": 97,
     "metadata": {},
     "output_type": "execute_result"
    }
   ],
   "source": [
    "max(tuple3)"
   ]
  },
  {
   "cell_type": "code",
   "execution_count": 99,
   "id": "841b05a1",
   "metadata": {},
   "outputs": [
    {
     "data": {
      "text/plain": [
       "3"
      ]
     },
     "execution_count": 99,
     "metadata": {},
     "output_type": "execute_result"
    }
   ],
   "source": [
    "len(tuple1)"
   ]
  },
  {
   "cell_type": "markdown",
   "id": "01792706",
   "metadata": {},
   "source": [
    "### Accessing Tuple elements through indexing and unpacking *"
   ]
  },
  {
   "cell_type": "code",
   "execution_count": 101,
   "id": "537667a4",
   "metadata": {},
   "outputs": [
    {
     "data": {
      "text/plain": [
       "1"
      ]
     },
     "execution_count": 101,
     "metadata": {},
     "output_type": "execute_result"
    }
   ],
   "source": [
    "tuple3[0]"
   ]
  },
  {
   "cell_type": "code",
   "execution_count": null,
   "id": "4e85bd01",
   "metadata": {},
   "outputs": [],
   "source": [
    "tuple3[0]"
   ]
  },
  {
   "cell_type": "code",
   "execution_count": 102,
   "id": "d0bcbc2d",
   "metadata": {},
   "outputs": [],
   "source": [
    "first , *others = tuple3"
   ]
  },
  {
   "cell_type": "code",
   "execution_count": 105,
   "id": "c72ea6cc",
   "metadata": {},
   "outputs": [
    {
     "name": "stdout",
     "output_type": "stream",
     "text": [
      "1\n",
      "[2, 3, 4, 5, 6, 7, 8]\n"
     ]
    }
   ],
   "source": [
    "print(first )\n",
    "print(others)"
   ]
  },
  {
   "cell_type": "code",
   "execution_count": 109,
   "id": "c4ee74a7",
   "metadata": {},
   "outputs": [
    {
     "name": "stdout",
     "output_type": "stream",
     "text": [
      "OK6\n"
     ]
    }
   ],
   "source": [
    "print(f\"OK{tuple3[5]}\")"
   ]
  },
  {
   "cell_type": "markdown",
   "id": "496f1b30",
   "metadata": {},
   "source": [
    "### Deleting a tuple"
   ]
  },
  {
   "cell_type": "code",
   "execution_count": 110,
   "id": "5c24ef5e",
   "metadata": {},
   "outputs": [
    {
     "ename": "NameError",
     "evalue": "name 'tuple4' is not defined",
     "output_type": "error",
     "traceback": [
      "\u001b[1;31m---------------------------------------------------------------------------\u001b[0m",
      "\u001b[1;31mNameError\u001b[0m                                 Traceback (most recent call last)",
      "\u001b[1;32m~\\AppData\\Local\\Temp\\ipykernel_17808\\515673541.py\u001b[0m in \u001b[0;36m<module>\u001b[1;34m\u001b[0m\n\u001b[0;32m      1\u001b[0m \u001b[1;32mdel\u001b[0m \u001b[0mtuple4\u001b[0m\u001b[1;33m\u001b[0m\u001b[1;33m\u001b[0m\u001b[0m\n\u001b[1;32m----> 2\u001b[1;33m \u001b[0mtuple4\u001b[0m\u001b[1;33m\u001b[0m\u001b[1;33m\u001b[0m\u001b[0m\n\u001b[0m",
      "\u001b[1;31mNameError\u001b[0m: name 'tuple4' is not defined"
     ]
    }
   ],
   "source": [
    "del tuple4\n",
    "tuple4"
   ]
  },
  {
   "cell_type": "markdown",
   "id": "10e266a0",
   "metadata": {},
   "source": [
    "### Concat tuples "
   ]
  },
  {
   "cell_type": "code",
   "execution_count": 111,
   "id": "ccc59540",
   "metadata": {},
   "outputs": [
    {
     "data": {
      "text/plain": [
       "(1, 2, 3, 1, 2, 3, 4, 5)"
      ]
     },
     "execution_count": 111,
     "metadata": {},
     "output_type": "execute_result"
    }
   ],
   "source": [
    "tuple4 = tuple1+tuple2\n",
    "tuple4"
   ]
  },
  {
   "cell_type": "markdown",
   "id": "ca4030ff",
   "metadata": {},
   "source": [
    "### Slicing on tuples \n",
    "Slicing on tuples works exactly same as lists "
   ]
  },
  {
   "cell_type": "code",
   "execution_count": 112,
   "id": "cc2acc23",
   "metadata": {},
   "outputs": [
    {
     "data": {
      "text/plain": [
       "(1, 2, 3, 1, 2)"
      ]
     },
     "execution_count": 112,
     "metadata": {},
     "output_type": "execute_result"
    }
   ],
   "source": [
    "tuple4[0:5]"
   ]
  },
  {
   "cell_type": "code",
   "execution_count": 114,
   "id": "caa327e8",
   "metadata": {},
   "outputs": [
    {
     "data": {
      "text/plain": [
       "(5, 4)"
      ]
     },
     "execution_count": 114,
     "metadata": {},
     "output_type": "execute_result"
    }
   ],
   "source": [
    "tuple4[-1:5:-1]"
   ]
  },
  {
   "cell_type": "code",
   "execution_count": 116,
   "id": "f3e36031",
   "metadata": {},
   "outputs": [
    {
     "data": {
      "text/plain": [
       "2"
      ]
     },
     "execution_count": 116,
     "metadata": {},
     "output_type": "execute_result"
    }
   ],
   "source": [
    "tuple5 = 1,2\n",
    "len(tuple5)"
   ]
  },
  {
   "cell_type": "code",
   "execution_count": null,
   "id": "c837a5f8",
   "metadata": {},
   "outputs": [],
   "source": []
  },
  {
   "cell_type": "code",
   "execution_count": null,
   "id": "9a6c314e",
   "metadata": {},
   "outputs": [],
   "source": []
  },
  {
   "cell_type": "markdown",
   "id": "943f3933",
   "metadata": {},
   "source": [
    "# Dictionaries\n",
    "discuss .format vs f string here"
   ]
  },
  {
   "cell_type": "markdown",
   "id": "5efb08e0",
   "metadata": {},
   "source": [
    "# Sets\n",
    "discuss that set doesnot have any literal syntax"
   ]
  },
  {
   "cell_type": "markdown",
   "id": "efd4ffd9",
   "metadata": {},
   "source": [
    "# Frozen Sets"
   ]
  },
  {
   "cell_type": "code",
   "execution_count": null,
   "id": "f5ceb130",
   "metadata": {},
   "outputs": [],
   "source": []
  }
 ],
 "metadata": {
  "kernelspec": {
   "display_name": "Python 3 (ipykernel)",
   "language": "python",
   "name": "python3"
  },
  "language_info": {
   "codemirror_mode": {
    "name": "ipython",
    "version": 3
   },
   "file_extension": ".py",
   "mimetype": "text/x-python",
   "name": "python",
   "nbconvert_exporter": "python",
   "pygments_lexer": "ipython3",
   "version": "3.9.13"
  }
 },
 "nbformat": 4,
 "nbformat_minor": 5
}
