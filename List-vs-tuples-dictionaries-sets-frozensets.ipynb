{
 "cells": [
  {
   "cell_type": "markdown",
   "id": "d5310246",
   "metadata": {},
   "source": [
    "# Lists"
   ]
  },
  {
   "cell_type": "markdown",
   "id": "fe754042",
   "metadata": {},
   "source": [
    "### 1- Creation of list \n",
    "Method 1: with list class object  (formal notation)   \n",
    "Method 2: bracket syntax (literal notation) "
   ]
  },
  {
   "cell_type": "code",
   "execution_count": 4,
   "id": "74564fcc",
   "metadata": {},
   "outputs": [
    {
     "data": {
      "text/plain": [
       "[1, 2, 3]"
      ]
     },
     "execution_count": 4,
     "metadata": {},
     "output_type": "execute_result"
    }
   ],
   "source": [
    "# formal notation \n",
    "l1 = list((1,2,3))\n",
    "l1"
   ]
  },
  {
   "cell_type": "markdown",
   "id": "633f0ac0",
   "metadata": {},
   "source": [
    "# Tuples\n",
    "Discuss that we can create tuples, without brackets or tuple class, "
   ]
  },
  {
   "cell_type": "markdown",
   "id": "f2759a77",
   "metadata": {},
   "source": [
    "# Dictionaries\n",
    "discuss .format vs f string here"
   ]
  },
  {
   "cell_type": "markdown",
   "id": "ee03f31f",
   "metadata": {},
   "source": [
    "# Sets\n",
    "discuss that set doesnot have any literal syntax"
   ]
  },
  {
   "cell_type": "markdown",
   "id": "188d2d4d",
   "metadata": {},
   "source": [
    "# Frozen Sets"
   ]
  },
  {
   "cell_type": "code",
   "execution_count": null,
   "id": "0387fe7f",
   "metadata": {},
   "outputs": [],
   "source": []
  }
 ],
 "metadata": {
  "kernelspec": {
   "display_name": "Python 3 (ipykernel)",
   "language": "python",
   "name": "python3"
  },
  "language_info": {
   "codemirror_mode": {
    "name": "ipython",
    "version": 3
   },
   "file_extension": ".py",
   "mimetype": "text/x-python",
   "name": "python",
   "nbconvert_exporter": "python",
   "pygments_lexer": "ipython3",
   "version": "3.9.13"
  }
 },
 "nbformat": 4,
 "nbformat_minor": 5
}
