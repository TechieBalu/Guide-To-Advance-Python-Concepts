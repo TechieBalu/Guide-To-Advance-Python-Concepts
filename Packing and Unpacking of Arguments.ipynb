{
 "cells": [
  {
   "cell_type": "markdown",
   "id": "72e83d6c",
   "metadata": {},
   "source": [
    "# Explanation\n",
    "In Python, you have the powerful ability to either pack or unpack function arguments. Consider a function you want to write which is capable of handling unlimited arguments. OR Consider a function in which you want to pass 8 or 10 or maybe more parameters. What you think would be the better approach to write function signature as `def fun(a,b,c,d,e,f,g,i,j,k,l,m,n)` OR `def fun(*args)` ? \n",
    "\n",
    "Yeah the */*args* is a better and concise way to handle such big numbers of parameters.\n",
    "\n",
    "Consider one more example, Let's say you have a function that can accept 5 parameters. but you user can send some times 2, or 3 or 5 as well. How are you going to handle this in function signatures? \n",
    "Are you going to write like `def fun(a=None,b=None,c=None,d=None,e=None)` ? OR `def fun(*agrs)` mayebe `def fun(*kwargs)`? \n",
    "\n",
    "Yeah, approach that uses args and kwargs is concise and better right?\n",
    "\n",
    "What comes to your mind when you think of ‘packing arguments’? You got it right! It is simply ‘packing’ the arguments into a single variable (i.e., a tuple of all arguments) that a function call will receive.\n",
    "\n",
    "It means that the elements inside a function can individually be accessed in the same way as for tuple values, i.e., tuple[0], tuple[1] etc. Furthermore, it also helps us convert the tuple into a list that can be manipulated.\n",
    "\n",
    "In the past, Python developers commonly called this feature 'tuple unpacking' because it was initially associated with tuples. However, this functionality proved to be so versatile and popular that it was extended to work with various types of iterable data structures. As a result, it is now commonly referred to as 'iterable unpacking."
   ]
  },
  {
   "cell_type": "code",
   "execution_count": 1,
   "id": "1eaa0c1b",
   "metadata": {},
   "outputs": [
    {
     "data": {
      "text/plain": [
       "15"
      ]
     },
     "execution_count": 1,
     "metadata": {},
     "output_type": "execute_result"
    }
   ],
   "source": [
    "# Let's write a function that can accept 5 arguments using not recommended approach\n",
    "\n",
    "def fun(a,b,c,d,e):\n",
    "    return a+b+c+d+e\n",
    "\n",
    "fun(1,2,3,4,5)"
   ]
  },
  {
   "cell_type": "code",
   "execution_count": 6,
   "id": "e6212a13",
   "metadata": {},
   "outputs": [
    {
     "name": "stdout",
     "output_type": "stream",
     "text": [
      "<class 'tuple'>\n",
      "(1, 2, 3, 4, 5)\n"
     ]
    },
    {
     "ename": "TypeError",
     "evalue": "type() takes 1 or 3 arguments",
     "output_type": "error",
     "traceback": [
      "\u001b[1;31m---------------------------------------------------------------------------\u001b[0m",
      "\u001b[1;31mTypeError\u001b[0m                                 Traceback (most recent call last)",
      "\u001b[1;32m~\\AppData\\Local\\Temp\\ipykernel_40924\\961132970.py\u001b[0m in \u001b[0;36m<module>\u001b[1;34m\u001b[0m\n\u001b[0;32m      5\u001b[0m     \u001b[0mprint\u001b[0m\u001b[1;33m(\u001b[0m\u001b[0margs\u001b[0m\u001b[1;33m)\u001b[0m\u001b[1;33m\u001b[0m\u001b[1;33m\u001b[0m\u001b[0m\n\u001b[0;32m      6\u001b[0m     \u001b[0mprint\u001b[0m\u001b[1;33m(\u001b[0m\u001b[0mtype\u001b[0m\u001b[1;33m(\u001b[0m\u001b[1;33m*\u001b[0m\u001b[0margs\u001b[0m\u001b[1;33m)\u001b[0m\u001b[1;33m)\u001b[0m\u001b[1;33m\u001b[0m\u001b[1;33m\u001b[0m\u001b[0m\n\u001b[1;32m----> 7\u001b[1;33m \u001b[0mfun\u001b[0m\u001b[1;33m(\u001b[0m\u001b[1;36m1\u001b[0m\u001b[1;33m,\u001b[0m\u001b[1;36m2\u001b[0m\u001b[1;33m,\u001b[0m\u001b[1;36m3\u001b[0m\u001b[1;33m,\u001b[0m\u001b[1;36m4\u001b[0m\u001b[1;33m,\u001b[0m\u001b[1;36m5\u001b[0m\u001b[1;33m)\u001b[0m\u001b[1;33m\u001b[0m\u001b[1;33m\u001b[0m\u001b[0m\n\u001b[0m",
      "\u001b[1;32m~\\AppData\\Local\\Temp\\ipykernel_40924\\961132970.py\u001b[0m in \u001b[0;36mfun\u001b[1;34m(*args)\u001b[0m\n\u001b[0;32m      4\u001b[0m     \u001b[0mprint\u001b[0m\u001b[1;33m(\u001b[0m\u001b[0mtype\u001b[0m\u001b[1;33m(\u001b[0m\u001b[0margs\u001b[0m\u001b[1;33m)\u001b[0m\u001b[1;33m)\u001b[0m \u001b[1;31m# it stores all the give parameters in tuple and we can access it using indexes\u001b[0m\u001b[1;33m\u001b[0m\u001b[1;33m\u001b[0m\u001b[0m\n\u001b[0;32m      5\u001b[0m     \u001b[0mprint\u001b[0m\u001b[1;33m(\u001b[0m\u001b[0margs\u001b[0m\u001b[1;33m)\u001b[0m\u001b[1;33m\u001b[0m\u001b[1;33m\u001b[0m\u001b[0m\n\u001b[1;32m----> 6\u001b[1;33m     \u001b[0mprint\u001b[0m\u001b[1;33m(\u001b[0m\u001b[0mtype\u001b[0m\u001b[1;33m(\u001b[0m\u001b[1;33m*\u001b[0m\u001b[0margs\u001b[0m\u001b[1;33m)\u001b[0m\u001b[1;33m)\u001b[0m\u001b[1;33m\u001b[0m\u001b[1;33m\u001b[0m\u001b[0m\n\u001b[0m\u001b[0;32m      7\u001b[0m \u001b[0mfun\u001b[0m\u001b[1;33m(\u001b[0m\u001b[1;36m1\u001b[0m\u001b[1;33m,\u001b[0m\u001b[1;36m2\u001b[0m\u001b[1;33m,\u001b[0m\u001b[1;36m3\u001b[0m\u001b[1;33m,\u001b[0m\u001b[1;36m4\u001b[0m\u001b[1;33m,\u001b[0m\u001b[1;36m5\u001b[0m\u001b[1;33m)\u001b[0m\u001b[1;33m\u001b[0m\u001b[1;33m\u001b[0m\u001b[0m\n",
      "\u001b[1;31mTypeError\u001b[0m: type() takes 1 or 3 arguments"
     ]
    }
   ],
   "source": [
    "# Let's write it with recommended approach\n",
    "\n",
    "def fun(*args):\n",
    "    print(type(args)) # it stores all the give parameters in tuple and we can access it using indexes\n",
    "    print(args)\n",
    "    \n",
    "fun(1,2,3,4,5)"
   ]
  },
  {
   "cell_type": "code",
   "execution_count": null,
   "id": "94be041b",
   "metadata": {},
   "outputs": [],
   "source": []
  }
 ],
 "metadata": {
  "kernelspec": {
   "display_name": "Python 3 (ipykernel)",
   "language": "python",
   "name": "python3"
  },
  "language_info": {
   "codemirror_mode": {
    "name": "ipython",
    "version": 3
   },
   "file_extension": ".py",
   "mimetype": "text/x-python",
   "name": "python",
   "nbconvert_exporter": "python",
   "pygments_lexer": "ipython3",
   "version": "3.9.13"
  }
 },
 "nbformat": 4,
 "nbformat_minor": 5
}
