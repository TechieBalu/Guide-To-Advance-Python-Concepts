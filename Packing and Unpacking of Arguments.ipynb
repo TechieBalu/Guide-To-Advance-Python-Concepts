{
 "cells": [
  {
   "cell_type": "markdown",
   "id": "f0dc862a",
   "metadata": {},
   "source": [
    "# Explanation\n",
    "In Python, you have the powerful ability to either pack or unpack function arguments. Consider a function you want to write which is capable of handling unlimited arguments. OR Consider a function in which you want to pass 8 or 10 or maybe more parameters. What you think would be the better approach to write function signature as `fun(a,b,c,d,e,f,g,i,j,k,l,m,n)` OR `fun(*args)` ? \n",
    "\n",
    "Yeah the */*args* is a better and concise way to handle such big numbers of parameters.\n",
    "\n",
    "Consider one more example, Let's say you have a function that can accept 5 parameters. but you user can send some times 2, or 3 or 5 as well. How are you going to handle this in function signatures? \n",
    "Are you going to write like `fun(a=None,b=None,c=None,d=None,e=None)` ? OR `fun(*agrs)` mayebe `fun(*kwargs)`? \n",
    "\n",
    "Yeah, approach that uses args and kwargs is concise and better right?\n",
    "\n",
    "In the past, Python developers commonly called this feature 'tuple unpacking' because it was initially associated with tuples. However, this functionality proved to be so versatile and popular that it was extended to work with various types of iterable data structures. As a result, it is now commonly referred to as 'iterable unpacking."
   ]
  },
  {
   "cell_type": "code",
   "execution_count": null,
   "id": "b3e698e1",
   "metadata": {},
   "outputs": [],
   "source": []
  }
 ],
 "metadata": {
  "kernelspec": {
   "display_name": "Python 3 (ipykernel)",
   "language": "python",
   "name": "python3"
  },
  "language_info": {
   "codemirror_mode": {
    "name": "ipython",
    "version": 3
   },
   "file_extension": ".py",
   "mimetype": "text/x-python",
   "name": "python",
   "nbconvert_exporter": "python",
   "pygments_lexer": "ipython3",
   "version": "3.9.13"
  }
 },
 "nbformat": 4,
 "nbformat_minor": 5
}
