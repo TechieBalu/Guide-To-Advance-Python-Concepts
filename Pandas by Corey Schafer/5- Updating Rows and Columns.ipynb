{
 "cells": [
  {
   "cell_type": "markdown",
   "id": "6ea44ddd",
   "metadata": {},
   "source": [
    "# Updating Rows and Columns"
   ]
  },
  {
   "cell_type": "code",
   "execution_count": 1,
   "id": "89490b87",
   "metadata": {},
   "outputs": [],
   "source": [
    "import pandas as pd\n",
    "import numpy as np "
   ]
  },
  {
   "cell_type": "code",
   "execution_count": 2,
   "id": "7f86b067",
   "metadata": {},
   "outputs": [],
   "source": [
    "#  dummy dictionary to convert it into dataframe\n",
    "\n",
    "data = {\n",
    "    'name': ['Alice', 'Bob', 'Charlie', 'David'],\n",
    "    'age': [25, 32, 18, 47],\n",
    "    'shape': ['New York', 'Paris', 'London', 'San Francisco']\n",
    "}"
   ]
  },
  {
   "cell_type": "code",
   "execution_count": 6,
   "id": "c05eab7b",
   "metadata": {},
   "outputs": [],
   "source": [
    "data = pd.DataFrame(data)"
   ]
  },
  {
   "cell_type": "code",
   "execution_count": 3,
   "id": "118f811a",
   "metadata": {},
   "outputs": [],
   "source": [
    "df = pd.read_csv(\"CSVs\\survey_results_public.csv\")"
   ]
  },
  {
   "cell_type": "markdown",
   "id": "ebd6bfcb",
   "metadata": {},
   "source": [
    "## Changing Names of all the columns at once"
   ]
  },
  {
   "cell_type": "code",
   "execution_count": 8,
   "id": "dc2fb046",
   "metadata": {},
   "outputs": [
    {
     "data": {
      "text/plain": [
       "Index(['name', 'age', 'shape'], dtype='object')"
      ]
     },
     "execution_count": 8,
     "metadata": {},
     "output_type": "execute_result"
    }
   ],
   "source": [
    "# Let's first look at all the columns in our dummy data\n",
    "data.columns"
   ]
  },
  {
   "cell_type": "code",
   "execution_count": 10,
   "id": "e298b500",
   "metadata": {},
   "outputs": [],
   "source": [
    "# changing names of all the columns at once,\n",
    "# Let's say I want to change the column name \"shape\" from \"city\" and I want to \n",
    "# keep rest the same\n",
    "# but the syntax below takes all column name, and if we want to change some specific column name we can do it with\n",
    "# another syntax that we will talk later (without passing all column names)\n",
    "\n",
    "data.columns = [\"name\", \"age\", \"city\"]"
   ]
  },
  {
   "cell_type": "code",
   "execution_count": 12,
   "id": "2da9f463",
   "metadata": {},
   "outputs": [
    {
     "data": {
      "text/plain": [
       "Index(['name', 'age', 'city'], dtype='object')"
      ]
     },
     "execution_count": 12,
     "metadata": {},
     "output_type": "execute_result"
    }
   ],
   "source": [
    "data.columns\n",
    "# If I look into my data, column names are changed"
   ]
  },
  {
   "cell_type": "markdown",
   "id": "a2241953",
   "metadata": {},
   "source": [
    "## Altering something in all column names using list comprehension and str class of pandas\n",
    "Let's say we want to upper case all the column names or, replace the spaces with the underscore, we can do it using the list comprehension, as well as str class \n",
    "-upper()\n",
    "-lower()\n",
    "-len()\n",
    "-strip()\n",
    "-lstrip()\n",
    "-rstring()\n",
    "-replace()\n",
    "-split()\n",
    "-removesuffix()\n",
    "-removeprefix()\n",
    "-cat()\n",
    "\n",
    "We can use multiple useful methods from str class and useful link is below\n",
    "https://pandas.pydata.org/docs/user_guide/text.html"
   ]
  },
  {
   "cell_type": "code",
   "execution_count": 13,
   "id": "b8bc5210",
   "metadata": {},
   "outputs": [],
   "source": [
    "data.columns = [x.upper() for x in data.columns]"
   ]
  },
  {
   "cell_type": "code",
   "execution_count": 14,
   "id": "1464434c",
   "metadata": {},
   "outputs": [
    {
     "data": {
      "text/plain": [
       "Index(['NAME', 'AGE', 'CITY'], dtype='object')"
      ]
     },
     "execution_count": 14,
     "metadata": {},
     "output_type": "execute_result"
    }
   ],
   "source": [
    "data.columns"
   ]
  },
  {
   "cell_type": "code",
   "execution_count": 16,
   "id": "94a7c144",
   "metadata": {},
   "outputs": [],
   "source": [
    "# WE can do the same thing using the str class of pandas"
   ]
  },
  {
   "cell_type": "code",
   "execution_count": 18,
   "id": "ca943f9b",
   "metadata": {},
   "outputs": [
    {
     "data": {
      "text/plain": [
       "Index(['name', 'age', 'city'], dtype='object')"
      ]
     },
     "execution_count": 18,
     "metadata": {},
     "output_type": "execute_result"
    }
   ],
   "source": [
    "data.columns = data.columns.str.lower()\n",
    "data.columns"
   ]
  },
  {
   "cell_type": "markdown",
   "id": "7e4fb412",
   "metadata": {},
   "source": [
    "## Altering the column names, by removing spaces and replacing them with _ or vice versa\n",
    "For this purpose, we can use the list comprehension, but str class of pandas can do this work in more simpler syntax but we will explore both"
   ]
  },
  {
   "cell_type": "code",
   "execution_count": 15,
   "id": "09d80c5b",
   "metadata": {},
   "outputs": [
    {
     "data": {
      "text/plain": [
       "Index(['NAME', 'AGE', 'CITY'], dtype='object')"
      ]
     },
     "execution_count": 15,
     "metadata": {},
     "output_type": "execute_result"
    }
   ],
   "source": [
    "# Let's first try it with List comprehension \n",
    "data.columns = [x.replace(\"_\",\" \") for x in data.columns]\n",
    "data.columns"
   ]
  },
  {
   "cell_type": "code",
   "execution_count": null,
   "id": "130fce66",
   "metadata": {},
   "outputs": [],
   "source": [
    "# HAHA SORRY, we donot have underscore in columns names but we can use the above syntax"
   ]
  }
 ],
 "metadata": {
  "kernelspec": {
   "display_name": "Python 3 (ipykernel)",
   "language": "python",
   "name": "python3"
  },
  "language_info": {
   "codemirror_mode": {
    "name": "ipython",
    "version": 3
   },
   "file_extension": ".py",
   "mimetype": "text/x-python",
   "name": "python",
   "nbconvert_exporter": "python",
   "pygments_lexer": "ipython3",
   "version": "3.9.13"
  }
 },
 "nbformat": 4,
 "nbformat_minor": 5
}
