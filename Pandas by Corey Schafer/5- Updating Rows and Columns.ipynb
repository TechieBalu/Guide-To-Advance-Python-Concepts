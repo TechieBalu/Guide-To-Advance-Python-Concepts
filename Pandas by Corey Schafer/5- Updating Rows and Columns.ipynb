{
 "cells": [
  {
   "cell_type": "markdown",
   "id": "77739545",
   "metadata": {},
   "source": [
    "# Updating Rows and Columns"
   ]
  },
  {
   "cell_type": "code",
   "execution_count": 1,
   "id": "35768f62",
   "metadata": {},
   "outputs": [],
   "source": [
    "import pandas as pd\n",
    "import numpy as np "
   ]
  },
  {
   "cell_type": "code",
   "execution_count": 2,
   "id": "3720f0cf",
   "metadata": {},
   "outputs": [],
   "source": [
    "#  dummy dictionary to convert it into dataframe\n",
    "\n",
    "data = {\n",
    "    'name': ['Alice', 'Bob', 'Charlie', 'David'],\n",
    "    'age': [25, 32, 18, 47],\n",
    "    'shape': ['New York', 'Paris', 'London', 'San Francisco']\n",
    "}"
   ]
  },
  {
   "cell_type": "code",
   "execution_count": 6,
   "id": "2724490d",
   "metadata": {},
   "outputs": [],
   "source": [
    "data = pd.DataFrame(data)"
   ]
  },
  {
   "cell_type": "code",
   "execution_count": 3,
   "id": "5b57934b",
   "metadata": {},
   "outputs": [],
   "source": [
    "df = pd.read_csv(\"CSVs\\survey_results_public.csv\")"
   ]
  },
  {
   "cell_type": "markdown",
   "id": "4160bfc1",
   "metadata": {},
   "source": [
    "## Changing Names of all the columns at once"
   ]
  },
  {
   "cell_type": "code",
   "execution_count": 8,
   "id": "15074a87",
   "metadata": {},
   "outputs": [
    {
     "data": {
      "text/plain": [
       "Index(['name', 'age', 'shape'], dtype='object')"
      ]
     },
     "execution_count": 8,
     "metadata": {},
     "output_type": "execute_result"
    }
   ],
   "source": [
    "# Let's first look at all the columns in our dummy data\n",
    "data.columns"
   ]
  },
  {
   "cell_type": "code",
   "execution_count": 23,
   "id": "afc88e8d",
   "metadata": {},
   "outputs": [],
   "source": [
    "# changing names of all the columns at once,\n",
    "# Let's say I want to change the column name \"shape\" from \"city\" and I want to change \"name\" to \"full_name\" and\n",
    "# keep age column same\n",
    "# but the syntax below takes all column name, and if we want to change some specific column name we can do it with\n",
    "# another syntax that we will talk later (without passing all column names)\n",
    "\n",
    "data.columns = [\"full_name\", \"age\", \"city\"]"
   ]
  },
  {
   "cell_type": "code",
   "execution_count": 24,
   "id": "f955335e",
   "metadata": {},
   "outputs": [
    {
     "data": {
      "text/plain": [
       "Index(['full_name', 'age', 'city'], dtype='object')"
      ]
     },
     "execution_count": 24,
     "metadata": {},
     "output_type": "execute_result"
    }
   ],
   "source": [
    "data.columns\n",
    "# If I look into my data, column names are changed"
   ]
  },
  {
   "cell_type": "markdown",
   "id": "37f37bdd",
   "metadata": {},
   "source": [
    "## Altering something in all column names using list comprehension and str class of pandas\n",
    "Let's say we want to upper case all the column names or, replace the spaces with the underscore, we can do it using the list comprehension, as well as str class   \n",
    "- upper()  \n",
    "- lower()  \n",
    "- len()  \n",
    "- title()  \n",
    "- strip()    \n",
    "- lstrip()  \n",
    "- rstring()  \n",
    "- replace()  \n",
    "- split()  \n",
    "- removesuffix()  \n",
    "- removeprefix()  \n",
    "- cat()  \n",
    "\n",
    "We can use multiple useful methods from str class and useful link is below\n",
    "https://pandas.pydata.org/docs/reference/api/pandas.Series.str.title.html\n",
    "complete str class\n",
    "\n",
    "\n",
    "https://pandas.pydata.org/docs/user_guide/text.html"
   ]
  },
  {
   "cell_type": "code",
   "execution_count": 25,
   "id": "7efc649c",
   "metadata": {},
   "outputs": [],
   "source": [
    "data.columns = [x.upper() for x in data.columns]"
   ]
  },
  {
   "cell_type": "code",
   "execution_count": 26,
   "id": "8bfb7b9b",
   "metadata": {},
   "outputs": [
    {
     "data": {
      "text/plain": [
       "Index(['FULL_NAME', 'AGE', 'CITY'], dtype='object')"
      ]
     },
     "execution_count": 26,
     "metadata": {},
     "output_type": "execute_result"
    }
   ],
   "source": [
    "data.columns"
   ]
  },
  {
   "cell_type": "code",
   "execution_count": 27,
   "id": "4988218b",
   "metadata": {},
   "outputs": [],
   "source": [
    "# WE can do the same thing using the str class of pandas"
   ]
  },
  {
   "cell_type": "code",
   "execution_count": 28,
   "id": "cb31a85d",
   "metadata": {},
   "outputs": [
    {
     "data": {
      "text/plain": [
       "Index(['full_name', 'age', 'city'], dtype='object')"
      ]
     },
     "execution_count": 28,
     "metadata": {},
     "output_type": "execute_result"
    }
   ],
   "source": [
    "data.columns = data.columns.str.lower()\n",
    "data.columns"
   ]
  },
  {
   "cell_type": "markdown",
   "id": "f7b6730e",
   "metadata": {},
   "source": [
    "## Altering the column names, by removing spaces and replacing them with _ or vice versa\n",
    "For this purpose, we can use the list comprehension, but str class of pandas can do this work in more simpler syntax but we will explore both"
   ]
  },
  {
   "cell_type": "code",
   "execution_count": 29,
   "id": "34b1cbb3",
   "metadata": {},
   "outputs": [
    {
     "data": {
      "text/plain": [
       "Index(['full name', 'age', 'city'], dtype='object')"
      ]
     },
     "execution_count": 29,
     "metadata": {},
     "output_type": "execute_result"
    }
   ],
   "source": [
    "# Let's first try it with List comprehension \n",
    "data.columns = [x.replace(\"_\",\" \") for x in data.columns]\n",
    "data.columns"
   ]
  },
  {
   "cell_type": "code",
   "execution_count": 30,
   "id": "8ce9609d",
   "metadata": {},
   "outputs": [
    {
     "data": {
      "text/plain": [
       "Index(['full_name', 'age', 'city'], dtype='object')"
      ]
     },
     "execution_count": 30,
     "metadata": {},
     "output_type": "execute_result"
    }
   ],
   "source": [
    "# But I want to keep it same so, I will replace it back to the underscore, because \n",
    "# we cannot use dot notaion to access specific column of the dataframe if there is space in the column name\n",
    "# And I will do this using the str class\n",
    "data.columns = data.columns.str.replace(\" \",\"_\")\n",
    "data.columns"
   ]
  },
  {
   "cell_type": "markdown",
   "id": "8e7ec9fd",
   "metadata": {},
   "source": [
    "## Renaming specific column names\n",
    "We will use the rename() function and we need to set the \"inplace\" argument to \"True\" otherwise pandas will not replace the names of the columns on the original dataset, \n",
    "We need to pass the dictionary to the \"columns\" argument of rename method and pass the old name as key and new name as value"
   ]
  },
  {
   "cell_type": "code",
   "execution_count": 31,
   "id": "b74c8d03",
   "metadata": {},
   "outputs": [
    {
     "data": {
      "text/html": [
       "<div>\n",
       "<style scoped>\n",
       "    .dataframe tbody tr th:only-of-type {\n",
       "        vertical-align: middle;\n",
       "    }\n",
       "\n",
       "    .dataframe tbody tr th {\n",
       "        vertical-align: top;\n",
       "    }\n",
       "\n",
       "    .dataframe thead th {\n",
       "        text-align: right;\n",
       "    }\n",
       "</style>\n",
       "<table border=\"1\" class=\"dataframe\">\n",
       "  <thead>\n",
       "    <tr style=\"text-align: right;\">\n",
       "      <th></th>\n",
       "      <th>full_name</th>\n",
       "      <th>age</th>\n",
       "      <th>city</th>\n",
       "    </tr>\n",
       "  </thead>\n",
       "  <tbody>\n",
       "    <tr>\n",
       "      <th>0</th>\n",
       "      <td>Alice</td>\n",
       "      <td>25</td>\n",
       "      <td>New York</td>\n",
       "    </tr>\n",
       "    <tr>\n",
       "      <th>1</th>\n",
       "      <td>Bob</td>\n",
       "      <td>32</td>\n",
       "      <td>Paris</td>\n",
       "    </tr>\n",
       "    <tr>\n",
       "      <th>2</th>\n",
       "      <td>Charlie</td>\n",
       "      <td>18</td>\n",
       "      <td>London</td>\n",
       "    </tr>\n",
       "    <tr>\n",
       "      <th>3</th>\n",
       "      <td>David</td>\n",
       "      <td>47</td>\n",
       "      <td>San Francisco</td>\n",
       "    </tr>\n",
       "  </tbody>\n",
       "</table>\n",
       "</div>"
      ],
      "text/plain": [
       "  full_name  age           city\n",
       "0     Alice   25       New York\n",
       "1       Bob   32          Paris\n",
       "2   Charlie   18         London\n",
       "3     David   47  San Francisco"
      ]
     },
     "execution_count": 31,
     "metadata": {},
     "output_type": "execute_result"
    }
   ],
   "source": [
    "data.rename(columns={\"first_name\":\"name\"})\n",
    "# if I look into the dataframe, pandas didnot change anything so we need to use the \"inplace\" argument"
   ]
  },
  {
   "cell_type": "code",
   "execution_count": 34,
   "id": "65613075",
   "metadata": {},
   "outputs": [
    {
     "data": {
      "text/plain": [
       "Index(['full_name', 'age', 'city'], dtype='object')"
      ]
     },
     "execution_count": 34,
     "metadata": {},
     "output_type": "execute_result"
    }
   ],
   "source": [
    "data.rename(columns={\"first_name\":\"name\"}, inplace=True)\n",
    "data.columns"
   ]
  },
  {
   "cell_type": "markdown",
   "id": "49f61ece",
   "metadata": {},
   "source": [
    "## Updating all values of particular row"
   ]
  },
  {
   "cell_type": "code",
   "execution_count": 37,
   "id": "77ef723d",
   "metadata": {},
   "outputs": [],
   "source": [
    "# Let's say I want to update the row 2 [\"Charles\", 18, \"London\"]\n",
    "data.loc[2] = [\"Mike\", 18 , \"Amesterdam\"]"
   ]
  },
  {
   "cell_type": "code",
   "execution_count": 38,
   "id": "ed75691d",
   "metadata": {},
   "outputs": [
    {
     "data": {
      "text/html": [
       "<div>\n",
       "<style scoped>\n",
       "    .dataframe tbody tr th:only-of-type {\n",
       "        vertical-align: middle;\n",
       "    }\n",
       "\n",
       "    .dataframe tbody tr th {\n",
       "        vertical-align: top;\n",
       "    }\n",
       "\n",
       "    .dataframe thead th {\n",
       "        text-align: right;\n",
       "    }\n",
       "</style>\n",
       "<table border=\"1\" class=\"dataframe\">\n",
       "  <thead>\n",
       "    <tr style=\"text-align: right;\">\n",
       "      <th></th>\n",
       "      <th>full_name</th>\n",
       "      <th>age</th>\n",
       "      <th>city</th>\n",
       "    </tr>\n",
       "  </thead>\n",
       "  <tbody>\n",
       "    <tr>\n",
       "      <th>0</th>\n",
       "      <td>Alice</td>\n",
       "      <td>25</td>\n",
       "      <td>New York</td>\n",
       "    </tr>\n",
       "    <tr>\n",
       "      <th>1</th>\n",
       "      <td>Bob</td>\n",
       "      <td>32</td>\n",
       "      <td>Paris</td>\n",
       "    </tr>\n",
       "    <tr>\n",
       "      <th>2</th>\n",
       "      <td>Mike</td>\n",
       "      <td>18</td>\n",
       "      <td>Amesterdam</td>\n",
       "    </tr>\n",
       "    <tr>\n",
       "      <th>3</th>\n",
       "      <td>David</td>\n",
       "      <td>47</td>\n",
       "      <td>San Francisco</td>\n",
       "    </tr>\n",
       "  </tbody>\n",
       "</table>\n",
       "</div>"
      ],
      "text/plain": [
       "  full_name  age           city\n",
       "0     Alice   25       New York\n",
       "1       Bob   32          Paris\n",
       "2      Mike   18     Amesterdam\n",
       "3     David   47  San Francisco"
      ]
     },
     "execution_count": 38,
     "metadata": {},
     "output_type": "execute_result"
    }
   ],
   "source": [
    "data"
   ]
  },
  {
   "cell_type": "markdown",
   "id": "416357f5",
   "metadata": {},
   "source": [
    "## Updating specific column values for a single row\n",
    "For this task we are familiar with the syntax"
   ]
  },
  {
   "cell_type": "code",
   "execution_count": 39,
   "id": "c4e8ea5f",
   "metadata": {},
   "outputs": [],
   "source": [
    "data.loc[2, [\"full_name\", \"city\"]] = [\"Charles\", \"London\"]\n",
    "\n",
    "# By using this syntax we are telling pandas, the access the \"full_name\" and \"city\" columns and set their values "
   ]
  },
  {
   "cell_type": "code",
   "execution_count": 40,
   "id": "3abd5656",
   "metadata": {},
   "outputs": [
    {
     "data": {
      "text/html": [
       "<div>\n",
       "<style scoped>\n",
       "    .dataframe tbody tr th:only-of-type {\n",
       "        vertical-align: middle;\n",
       "    }\n",
       "\n",
       "    .dataframe tbody tr th {\n",
       "        vertical-align: top;\n",
       "    }\n",
       "\n",
       "    .dataframe thead th {\n",
       "        text-align: right;\n",
       "    }\n",
       "</style>\n",
       "<table border=\"1\" class=\"dataframe\">\n",
       "  <thead>\n",
       "    <tr style=\"text-align: right;\">\n",
       "      <th></th>\n",
       "      <th>full_name</th>\n",
       "      <th>age</th>\n",
       "      <th>city</th>\n",
       "    </tr>\n",
       "  </thead>\n",
       "  <tbody>\n",
       "    <tr>\n",
       "      <th>0</th>\n",
       "      <td>Alice</td>\n",
       "      <td>25</td>\n",
       "      <td>New York</td>\n",
       "    </tr>\n",
       "    <tr>\n",
       "      <th>1</th>\n",
       "      <td>Bob</td>\n",
       "      <td>32</td>\n",
       "      <td>Paris</td>\n",
       "    </tr>\n",
       "    <tr>\n",
       "      <th>2</th>\n",
       "      <td>Charles</td>\n",
       "      <td>18</td>\n",
       "      <td>London</td>\n",
       "    </tr>\n",
       "    <tr>\n",
       "      <th>3</th>\n",
       "      <td>David</td>\n",
       "      <td>47</td>\n",
       "      <td>San Francisco</td>\n",
       "    </tr>\n",
       "  </tbody>\n",
       "</table>\n",
       "</div>"
      ],
      "text/plain": [
       "  full_name  age           city\n",
       "0     Alice   25       New York\n",
       "1       Bob   32          Paris\n",
       "2   Charles   18         London\n",
       "3     David   47  San Francisco"
      ]
     },
     "execution_count": 40,
     "metadata": {},
     "output_type": "execute_result"
    }
   ],
   "source": [
    "data"
   ]
  },
  {
   "cell_type": "code",
   "execution_count": 41,
   "id": "b3fa4ccb",
   "metadata": {},
   "outputs": [
    {
     "data": {
      "text/html": [
       "<div>\n",
       "<style scoped>\n",
       "    .dataframe tbody tr th:only-of-type {\n",
       "        vertical-align: middle;\n",
       "    }\n",
       "\n",
       "    .dataframe tbody tr th {\n",
       "        vertical-align: top;\n",
       "    }\n",
       "\n",
       "    .dataframe thead th {\n",
       "        text-align: right;\n",
       "    }\n",
       "</style>\n",
       "<table border=\"1\" class=\"dataframe\">\n",
       "  <thead>\n",
       "    <tr style=\"text-align: right;\">\n",
       "      <th></th>\n",
       "      <th>full_name</th>\n",
       "      <th>age</th>\n",
       "      <th>city</th>\n",
       "    </tr>\n",
       "  </thead>\n",
       "  <tbody>\n",
       "    <tr>\n",
       "      <th>0</th>\n",
       "      <td>Alice</td>\n",
       "      <td>25</td>\n",
       "      <td>New York</td>\n",
       "    </tr>\n",
       "    <tr>\n",
       "      <th>1</th>\n",
       "      <td>Bob</td>\n",
       "      <td>32</td>\n",
       "      <td>Paris</td>\n",
       "    </tr>\n",
       "    <tr>\n",
       "      <th>2</th>\n",
       "      <td>Mike</td>\n",
       "      <td>18</td>\n",
       "      <td>London</td>\n",
       "    </tr>\n",
       "    <tr>\n",
       "      <th>3</th>\n",
       "      <td>David</td>\n",
       "      <td>47</td>\n",
       "      <td>San Francisco</td>\n",
       "    </tr>\n",
       "  </tbody>\n",
       "</table>\n",
       "</div>"
      ],
      "text/plain": [
       "  full_name  age           city\n",
       "0     Alice   25       New York\n",
       "1       Bob   32          Paris\n",
       "2      Mike   18         London\n",
       "3     David   47  San Francisco"
      ]
     },
     "execution_count": 41,
     "metadata": {},
     "output_type": "execute_result"
    }
   ],
   "source": [
    "# Changing single value\n",
    "data.loc[2, \"full_name\"] = \"Mike\"\n",
    "data"
   ]
  },
  {
   "cell_type": "markdown",
   "id": "7b43c981",
   "metadata": {},
   "source": [
    "## at[] operator\n",
    "Similar to loc, in that both provide label-based lookups. Use at if you only need to get or set a single value in a DataFrame or Series.\n",
    "\n",
    "According to pandas documentation it is similar to the \"loc\" operator, and this operator is not deprecated yet, It means there could be a chance like \"at\" operator is more optimized to access single records than the loc but not sure (Instructors views)\n",
    "\n",
    "- Main difference is, loc can handle single and multiple values but at can only handle single values"
   ]
  },
  {
   "cell_type": "code",
   "execution_count": 59,
   "id": "63b74c56",
   "metadata": {},
   "outputs": [
    {
     "data": {
      "text/html": [
       "<div>\n",
       "<style scoped>\n",
       "    .dataframe tbody tr th:only-of-type {\n",
       "        vertical-align: middle;\n",
       "    }\n",
       "\n",
       "    .dataframe tbody tr th {\n",
       "        vertical-align: top;\n",
       "    }\n",
       "\n",
       "    .dataframe thead th {\n",
       "        text-align: right;\n",
       "    }\n",
       "</style>\n",
       "<table border=\"1\" class=\"dataframe\">\n",
       "  <thead>\n",
       "    <tr style=\"text-align: right;\">\n",
       "      <th></th>\n",
       "      <th>full_name</th>\n",
       "      <th>age</th>\n",
       "      <th>city</th>\n",
       "    </tr>\n",
       "  </thead>\n",
       "  <tbody>\n",
       "    <tr>\n",
       "      <th>0</th>\n",
       "      <td>Alice</td>\n",
       "      <td>25</td>\n",
       "      <td>New York</td>\n",
       "    </tr>\n",
       "    <tr>\n",
       "      <th>1</th>\n",
       "      <td>Bob</td>\n",
       "      <td>32</td>\n",
       "      <td>Paris</td>\n",
       "    </tr>\n",
       "    <tr>\n",
       "      <th>2</th>\n",
       "      <td>Charles</td>\n",
       "      <td>18</td>\n",
       "      <td>London</td>\n",
       "    </tr>\n",
       "    <tr>\n",
       "      <th>3</th>\n",
       "      <td>David</td>\n",
       "      <td>47</td>\n",
       "      <td>San Francisco</td>\n",
       "    </tr>\n",
       "  </tbody>\n",
       "</table>\n",
       "</div>"
      ],
      "text/plain": [
       "  full_name  age           city\n",
       "0     Alice   25       New York\n",
       "1       Bob   32          Paris\n",
       "2   Charles   18         London\n",
       "3     David   47  San Francisco"
      ]
     },
     "execution_count": 59,
     "metadata": {},
     "output_type": "execute_result"
    }
   ],
   "source": [
    "data.at[2, \"full_name\"] = \"Charles\"\n",
    "data"
   ]
  },
  {
   "cell_type": "markdown",
   "id": "c76f124b",
   "metadata": {},
   "source": [
    "## Warning in changing the value of specific column using filter"
   ]
  },
  {
   "cell_type": "code",
   "execution_count": 60,
   "id": "badf3a28",
   "metadata": {},
   "outputs": [
    {
     "data": {
      "text/html": [
       "<div>\n",
       "<style scoped>\n",
       "    .dataframe tbody tr th:only-of-type {\n",
       "        vertical-align: middle;\n",
       "    }\n",
       "\n",
       "    .dataframe tbody tr th {\n",
       "        vertical-align: top;\n",
       "    }\n",
       "\n",
       "    .dataframe thead th {\n",
       "        text-align: right;\n",
       "    }\n",
       "</style>\n",
       "<table border=\"1\" class=\"dataframe\">\n",
       "  <thead>\n",
       "    <tr style=\"text-align: right;\">\n",
       "      <th></th>\n",
       "      <th>full_name</th>\n",
       "      <th>age</th>\n",
       "      <th>city</th>\n",
       "    </tr>\n",
       "  </thead>\n",
       "  <tbody>\n",
       "    <tr>\n",
       "      <th>2</th>\n",
       "      <td>Charles</td>\n",
       "      <td>18</td>\n",
       "      <td>London</td>\n",
       "    </tr>\n",
       "  </tbody>\n",
       "</table>\n",
       "</div>"
      ],
      "text/plain": [
       "  full_name  age    city\n",
       "2   Charles   18  London"
      ]
     },
     "execution_count": 60,
     "metadata": {},
     "output_type": "execute_result"
    }
   ],
   "source": [
    "filt = data[data[\"full_name\"] == \"Charles\"]\n",
    "filt"
   ]
  },
  {
   "cell_type": "code",
   "execution_count": 62,
   "id": "8604593b",
   "metadata": {},
   "outputs": [
    {
     "name": "stderr",
     "output_type": "stream",
     "text": [
      "C:\\Users\\Meer\\AppData\\Local\\Temp\\ipykernel_43084\\2820425770.py:1: SettingWithCopyWarning: \n",
      "A value is trying to be set on a copy of a slice from a DataFrame.\n",
      "Try using .loc[row_indexer,col_indexer] = value instead\n",
      "\n",
      "See the caveats in the documentation: https://pandas.pydata.org/pandas-docs/stable/user_guide/indexing.html#returning-a-view-versus-a-copy\n",
      "  filt[\"fullname\"] = \"Mike\"\n"
     ]
    }
   ],
   "source": [
    "filt[\"fullname\"] = \"Mike\"\n",
    "\n",
    "# doing this way pandas gives us a warning, and the reason behind it can be studied in the documentation below"
   ]
  },
  {
   "cell_type": "code",
   "execution_count": 51,
   "id": "1ef67b4d",
   "metadata": {},
   "outputs": [
    {
     "name": "stdout",
     "output_type": "stream",
     "text": [
      "0    False\n",
      "1    False\n",
      "2    False\n",
      "3    False\n",
      "Name: full_name, dtype: bool\n"
     ]
    },
    {
     "data": {
      "text/html": [
       "<div>\n",
       "<style scoped>\n",
       "    .dataframe tbody tr th:only-of-type {\n",
       "        vertical-align: middle;\n",
       "    }\n",
       "\n",
       "    .dataframe tbody tr th {\n",
       "        vertical-align: top;\n",
       "    }\n",
       "\n",
       "    .dataframe thead th {\n",
       "        text-align: right;\n",
       "    }\n",
       "</style>\n",
       "<table border=\"1\" class=\"dataframe\">\n",
       "  <thead>\n",
       "    <tr style=\"text-align: right;\">\n",
       "      <th></th>\n",
       "      <th>full_name</th>\n",
       "      <th>age</th>\n",
       "      <th>city</th>\n",
       "    </tr>\n",
       "  </thead>\n",
       "  <tbody>\n",
       "    <tr>\n",
       "      <th>0</th>\n",
       "      <td>Alice</td>\n",
       "      <td>25</td>\n",
       "      <td>New York</td>\n",
       "    </tr>\n",
       "    <tr>\n",
       "      <th>1</th>\n",
       "      <td>Bob</td>\n",
       "      <td>32</td>\n",
       "      <td>Paris</td>\n",
       "    </tr>\n",
       "    <tr>\n",
       "      <th>2</th>\n",
       "      <td>Mike</td>\n",
       "      <td>18</td>\n",
       "      <td>London</td>\n",
       "    </tr>\n",
       "    <tr>\n",
       "      <th>3</th>\n",
       "      <td>David</td>\n",
       "      <td>47</td>\n",
       "      <td>San Francisco</td>\n",
       "    </tr>\n",
       "  </tbody>\n",
       "</table>\n",
       "</div>"
      ],
      "text/plain": [
       "  full_name  age           city\n",
       "0     Alice   25       New York\n",
       "1       Bob   32          Paris\n",
       "2      Mike   18         London\n",
       "3     David   47  San Francisco"
      ]
     },
     "execution_count": 51,
     "metadata": {},
     "output_type": "execute_result"
    }
   ],
   "source": [
    "#but we can update the value this way\n",
    "\n",
    "filt = (data[\"full_name\"] == \"Charles\")\n",
    "print(filt)\n",
    "data.loc[filt,\"full_name\"] = \"Mike\"\n",
    "data"
   ]
  },
  {
   "cell_type": "markdown",
   "id": "3564fa1e",
   "metadata": {},
   "source": [
    "## Changing data of all rows are specific column"
   ]
  },
  {
   "cell_type": "code",
   "execution_count": 64,
   "id": "e6875da2",
   "metadata": {},
   "outputs": [
    {
     "data": {
      "text/plain": [
       "0      alice\n",
       "1        bob\n",
       "2    charles\n",
       "3      david\n",
       "Name: full_name, dtype: object"
      ]
     },
     "execution_count": 64,
     "metadata": {},
     "output_type": "execute_result"
    }
   ],
   "source": [
    "data[\"full_name\"].str.lower()\n",
    "\n",
    "# this only returned the lower case values and didnot change the dataframe"
   ]
  },
  {
   "cell_type": "code",
   "execution_count": 65,
   "id": "4d8b7d63",
   "metadata": {},
   "outputs": [
    {
     "data": {
      "text/html": [
       "<div>\n",
       "<style scoped>\n",
       "    .dataframe tbody tr th:only-of-type {\n",
       "        vertical-align: middle;\n",
       "    }\n",
       "\n",
       "    .dataframe tbody tr th {\n",
       "        vertical-align: top;\n",
       "    }\n",
       "\n",
       "    .dataframe thead th {\n",
       "        text-align: right;\n",
       "    }\n",
       "</style>\n",
       "<table border=\"1\" class=\"dataframe\">\n",
       "  <thead>\n",
       "    <tr style=\"text-align: right;\">\n",
       "      <th></th>\n",
       "      <th>full_name</th>\n",
       "      <th>age</th>\n",
       "      <th>city</th>\n",
       "    </tr>\n",
       "  </thead>\n",
       "  <tbody>\n",
       "    <tr>\n",
       "      <th>0</th>\n",
       "      <td>Alice</td>\n",
       "      <td>25</td>\n",
       "      <td>New York</td>\n",
       "    </tr>\n",
       "    <tr>\n",
       "      <th>1</th>\n",
       "      <td>Bob</td>\n",
       "      <td>32</td>\n",
       "      <td>Paris</td>\n",
       "    </tr>\n",
       "    <tr>\n",
       "      <th>2</th>\n",
       "      <td>Charles</td>\n",
       "      <td>18</td>\n",
       "      <td>London</td>\n",
       "    </tr>\n",
       "    <tr>\n",
       "      <th>3</th>\n",
       "      <td>David</td>\n",
       "      <td>47</td>\n",
       "      <td>San Francisco</td>\n",
       "    </tr>\n",
       "  </tbody>\n",
       "</table>\n",
       "</div>"
      ],
      "text/plain": [
       "  full_name  age           city\n",
       "0     Alice   25       New York\n",
       "1       Bob   32          Paris\n",
       "2   Charles   18         London\n",
       "3     David   47  San Francisco"
      ]
     },
     "execution_count": 65,
     "metadata": {},
     "output_type": "execute_result"
    }
   ],
   "source": [
    "data"
   ]
  },
  {
   "cell_type": "code",
   "execution_count": 67,
   "id": "e3842ca0",
   "metadata": {},
   "outputs": [
    {
     "data": {
      "text/html": [
       "<div>\n",
       "<style scoped>\n",
       "    .dataframe tbody tr th:only-of-type {\n",
       "        vertical-align: middle;\n",
       "    }\n",
       "\n",
       "    .dataframe tbody tr th {\n",
       "        vertical-align: top;\n",
       "    }\n",
       "\n",
       "    .dataframe thead th {\n",
       "        text-align: right;\n",
       "    }\n",
       "</style>\n",
       "<table border=\"1\" class=\"dataframe\">\n",
       "  <thead>\n",
       "    <tr style=\"text-align: right;\">\n",
       "      <th></th>\n",
       "      <th>full_name</th>\n",
       "      <th>age</th>\n",
       "      <th>city</th>\n",
       "    </tr>\n",
       "  </thead>\n",
       "  <tbody>\n",
       "    <tr>\n",
       "      <th>0</th>\n",
       "      <td>alice</td>\n",
       "      <td>25</td>\n",
       "      <td>New York</td>\n",
       "    </tr>\n",
       "    <tr>\n",
       "      <th>1</th>\n",
       "      <td>bob</td>\n",
       "      <td>32</td>\n",
       "      <td>Paris</td>\n",
       "    </tr>\n",
       "    <tr>\n",
       "      <th>2</th>\n",
       "      <td>charles</td>\n",
       "      <td>18</td>\n",
       "      <td>London</td>\n",
       "    </tr>\n",
       "    <tr>\n",
       "      <th>3</th>\n",
       "      <td>david</td>\n",
       "      <td>47</td>\n",
       "      <td>San Francisco</td>\n",
       "    </tr>\n",
       "  </tbody>\n",
       "</table>\n",
       "</div>"
      ],
      "text/plain": [
       "  full_name  age           city\n",
       "0     alice   25       New York\n",
       "1       bob   32          Paris\n",
       "2   charles   18         London\n",
       "3     david   47  San Francisco"
      ]
     },
     "execution_count": 67,
     "metadata": {},
     "output_type": "execute_result"
    }
   ],
   "source": [
    "# To change the values actually in the column we can assign it to that column\n",
    "data[\"full_name\"]= data[\"full_name\"].str.lower()\n",
    "data"
   ]
  },
  {
   "cell_type": "code",
   "execution_count": 68,
   "id": "978f87b0",
   "metadata": {},
   "outputs": [
    {
     "data": {
      "text/html": [
       "<div>\n",
       "<style scoped>\n",
       "    .dataframe tbody tr th:only-of-type {\n",
       "        vertical-align: middle;\n",
       "    }\n",
       "\n",
       "    .dataframe tbody tr th {\n",
       "        vertical-align: top;\n",
       "    }\n",
       "\n",
       "    .dataframe thead th {\n",
       "        text-align: right;\n",
       "    }\n",
       "</style>\n",
       "<table border=\"1\" class=\"dataframe\">\n",
       "  <thead>\n",
       "    <tr style=\"text-align: right;\">\n",
       "      <th></th>\n",
       "      <th>full_name</th>\n",
       "      <th>age</th>\n",
       "      <th>city</th>\n",
       "    </tr>\n",
       "  </thead>\n",
       "  <tbody>\n",
       "    <tr>\n",
       "      <th>0</th>\n",
       "      <td>Alice</td>\n",
       "      <td>25</td>\n",
       "      <td>New York</td>\n",
       "    </tr>\n",
       "    <tr>\n",
       "      <th>1</th>\n",
       "      <td>Bob</td>\n",
       "      <td>32</td>\n",
       "      <td>Paris</td>\n",
       "    </tr>\n",
       "    <tr>\n",
       "      <th>2</th>\n",
       "      <td>Charles</td>\n",
       "      <td>18</td>\n",
       "      <td>London</td>\n",
       "    </tr>\n",
       "    <tr>\n",
       "      <th>3</th>\n",
       "      <td>David</td>\n",
       "      <td>47</td>\n",
       "      <td>San Francisco</td>\n",
       "    </tr>\n",
       "  </tbody>\n",
       "</table>\n",
       "</div>"
      ],
      "text/plain": [
       "  full_name  age           city\n",
       "0     Alice   25       New York\n",
       "1       Bob   32          Paris\n",
       "2   Charles   18         London\n",
       "3     David   47  San Francisco"
      ]
     },
     "execution_count": 68,
     "metadata": {},
     "output_type": "execute_result"
    }
   ],
   "source": [
    "data[\"full_name\"]= data[\"full_name\"].str.title()\n",
    "data"
   ]
  },
  {
   "cell_type": "markdown",
   "id": "43964149",
   "metadata": {},
   "source": [
    "## Useful 4 methods to change the values of specific columns for all the rows like making full_name column values into lower case  \n",
    "\n",
    "1. apply\n",
    "2. map\n",
    "3. applymap\n",
    "4. replace"
   ]
  },
  {
   "cell_type": "code",
   "execution_count": null,
   "id": "3cd76b7a",
   "metadata": {},
   "outputs": [],
   "source": [
    "# These are important function and have complex results so we need to give full attention on how these function wo"
   ]
  }
 ],
 "metadata": {
  "kernelspec": {
   "display_name": "Python 3 (ipykernel)",
   "language": "python",
   "name": "python3"
  },
  "language_info": {
   "codemirror_mode": {
    "name": "ipython",
    "version": 3
   },
   "file_extension": ".py",
   "mimetype": "text/x-python",
   "name": "python",
   "nbconvert_exporter": "python",
   "pygments_lexer": "ipython3",
   "version": "3.9.13"
  }
 },
 "nbformat": 4,
 "nbformat_minor": 5
}
