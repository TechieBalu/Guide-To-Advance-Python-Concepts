{
 "cells": [
  {
   "cell_type": "markdown",
   "id": "dd45f231",
   "metadata": {},
   "source": [
    "# Updating Rows and Columns"
   ]
  },
  {
   "cell_type": "code",
   "execution_count": 1,
   "id": "a41f7436",
   "metadata": {},
   "outputs": [],
   "source": [
    "import pandas as pd\n",
    "import numpy as np "
   ]
  },
  {
   "cell_type": "code",
   "execution_count": 2,
   "id": "1e4c91c9",
   "metadata": {},
   "outputs": [],
   "source": [
    "#  dummy dictionary to convert it into dataframe\n",
    "\n",
    "data = {\n",
    "    'name': ['Alice', 'Bob', 'Charlie', 'David'],\n",
    "    'age': [25, 32, 18, 47],\n",
    "    'shape': ['New York', 'Paris', 'London', 'San Francisco']\n",
    "}"
   ]
  },
  {
   "cell_type": "code",
   "execution_count": 6,
   "id": "f477556b",
   "metadata": {},
   "outputs": [],
   "source": [
    "data = pd.DataFrame(data)"
   ]
  },
  {
   "cell_type": "code",
   "execution_count": 3,
   "id": "5dc2c5f4",
   "metadata": {},
   "outputs": [],
   "source": [
    "df = pd.read_csv(\"CSVs\\survey_results_public.csv\")"
   ]
  },
  {
   "cell_type": "markdown",
   "id": "cd5db3be",
   "metadata": {},
   "source": [
    "## Changing Names of all the columns at once"
   ]
  },
  {
   "cell_type": "code",
   "execution_count": 8,
   "id": "59cb5ece",
   "metadata": {},
   "outputs": [
    {
     "data": {
      "text/plain": [
       "Index(['name', 'age', 'shape'], dtype='object')"
      ]
     },
     "execution_count": 8,
     "metadata": {},
     "output_type": "execute_result"
    }
   ],
   "source": [
    "# Let's first look at all the columns in our dummy data\n",
    "data.columns"
   ]
  },
  {
   "cell_type": "code",
   "execution_count": 23,
   "id": "b30d6b9f",
   "metadata": {},
   "outputs": [],
   "source": [
    "# changing names of all the columns at once,\n",
    "# Let's say I want to change the column name \"shape\" from \"city\" and I want to change \"name\" to \"full_name\" and\n",
    "# keep age column same\n",
    "# but the syntax below takes all column name, and if we want to change some specific column name we can do it with\n",
    "# another syntax that we will talk later (without passing all column names)\n",
    "\n",
    "data.columns = [\"full_name\", \"age\", \"city\"]"
   ]
  },
  {
   "cell_type": "code",
   "execution_count": 24,
   "id": "1589151d",
   "metadata": {},
   "outputs": [
    {
     "data": {
      "text/plain": [
       "Index(['full_name', 'age', 'city'], dtype='object')"
      ]
     },
     "execution_count": 24,
     "metadata": {},
     "output_type": "execute_result"
    }
   ],
   "source": [
    "data.columns\n",
    "# If I look into my data, column names are changed"
   ]
  },
  {
   "cell_type": "markdown",
   "id": "5466d286",
   "metadata": {},
   "source": [
    "## Altering something in all column names using list comprehension and str class of pandas\n",
    "Let's say we want to upper case all the column names or, replace the spaces with the underscore, we can do it using the list comprehension, as well as str class   \n",
    "-upper()  \n",
    "-lower()  \n",
    "-len()  \n",
    "-strip()    \n",
    "-lstrip()  \n",
    "-rstring()  \n",
    "-replace()  \n",
    "-split()  \n",
    "-removesuffix()  \n",
    "-removeprefix()  \n",
    "-cat()  \n",
    "\n",
    "We can use multiple useful methods from str class and useful link is below\n",
    "https://pandas.pydata.org/docs/user_guide/text.html"
   ]
  },
  {
   "cell_type": "code",
   "execution_count": 25,
   "id": "519bd8f3",
   "metadata": {},
   "outputs": [],
   "source": [
    "data.columns = [x.upper() for x in data.columns]"
   ]
  },
  {
   "cell_type": "code",
   "execution_count": 26,
   "id": "2fd50949",
   "metadata": {},
   "outputs": [
    {
     "data": {
      "text/plain": [
       "Index(['FULL_NAME', 'AGE', 'CITY'], dtype='object')"
      ]
     },
     "execution_count": 26,
     "metadata": {},
     "output_type": "execute_result"
    }
   ],
   "source": [
    "data.columns"
   ]
  },
  {
   "cell_type": "code",
   "execution_count": 27,
   "id": "3a970cee",
   "metadata": {},
   "outputs": [],
   "source": [
    "# WE can do the same thing using the str class of pandas"
   ]
  },
  {
   "cell_type": "code",
   "execution_count": 28,
   "id": "ba723062",
   "metadata": {},
   "outputs": [
    {
     "data": {
      "text/plain": [
       "Index(['full_name', 'age', 'city'], dtype='object')"
      ]
     },
     "execution_count": 28,
     "metadata": {},
     "output_type": "execute_result"
    }
   ],
   "source": [
    "data.columns = data.columns.str.lower()\n",
    "data.columns"
   ]
  },
  {
   "cell_type": "markdown",
   "id": "843819d8",
   "metadata": {},
   "source": [
    "## Altering the column names, by removing spaces and replacing them with _ or vice versa\n",
    "For this purpose, we can use the list comprehension, but str class of pandas can do this work in more simpler syntax but we will explore both"
   ]
  },
  {
   "cell_type": "code",
   "execution_count": 29,
   "id": "4609fc38",
   "metadata": {},
   "outputs": [
    {
     "data": {
      "text/plain": [
       "Index(['full name', 'age', 'city'], dtype='object')"
      ]
     },
     "execution_count": 29,
     "metadata": {},
     "output_type": "execute_result"
    }
   ],
   "source": [
    "# Let's first try it with List comprehension \n",
    "data.columns = [x.replace(\"_\",\" \") for x in data.columns]\n",
    "data.columns"
   ]
  },
  {
   "cell_type": "code",
   "execution_count": 30,
   "id": "d3c0d804",
   "metadata": {},
   "outputs": [
    {
     "data": {
      "text/plain": [
       "Index(['full_name', 'age', 'city'], dtype='object')"
      ]
     },
     "execution_count": 30,
     "metadata": {},
     "output_type": "execute_result"
    }
   ],
   "source": [
    "# But I want to keep it same so, I will replace it back to the underscore, because \n",
    "# we cannot use dot notaion to access specific column of the dataframe if there is space in the column name\n",
    "# And I will do this using the str class\n",
    "data.columns = data.columns.str.replace(\" \",\"_\")\n",
    "data.columns"
   ]
  },
  {
   "cell_type": "markdown",
   "id": "9357de37",
   "metadata": {},
   "source": [
    "## Renaming specific column names\n",
    "We will use the rename() function and we need to set the \"inplace\" argument to \"True\" otherwise pandas will not replace the names of the columns on the original dataset, \n",
    "We need to pass the dictionary to the \"columns\" argument of rename method and pass the old name as key and new name as value"
   ]
  },
  {
   "cell_type": "code",
   "execution_count": 31,
   "id": "43982f14",
   "metadata": {},
   "outputs": [
    {
     "data": {
      "text/html": [
       "<div>\n",
       "<style scoped>\n",
       "    .dataframe tbody tr th:only-of-type {\n",
       "        vertical-align: middle;\n",
       "    }\n",
       "\n",
       "    .dataframe tbody tr th {\n",
       "        vertical-align: top;\n",
       "    }\n",
       "\n",
       "    .dataframe thead th {\n",
       "        text-align: right;\n",
       "    }\n",
       "</style>\n",
       "<table border=\"1\" class=\"dataframe\">\n",
       "  <thead>\n",
       "    <tr style=\"text-align: right;\">\n",
       "      <th></th>\n",
       "      <th>full_name</th>\n",
       "      <th>age</th>\n",
       "      <th>city</th>\n",
       "    </tr>\n",
       "  </thead>\n",
       "  <tbody>\n",
       "    <tr>\n",
       "      <th>0</th>\n",
       "      <td>Alice</td>\n",
       "      <td>25</td>\n",
       "      <td>New York</td>\n",
       "    </tr>\n",
       "    <tr>\n",
       "      <th>1</th>\n",
       "      <td>Bob</td>\n",
       "      <td>32</td>\n",
       "      <td>Paris</td>\n",
       "    </tr>\n",
       "    <tr>\n",
       "      <th>2</th>\n",
       "      <td>Charlie</td>\n",
       "      <td>18</td>\n",
       "      <td>London</td>\n",
       "    </tr>\n",
       "    <tr>\n",
       "      <th>3</th>\n",
       "      <td>David</td>\n",
       "      <td>47</td>\n",
       "      <td>San Francisco</td>\n",
       "    </tr>\n",
       "  </tbody>\n",
       "</table>\n",
       "</div>"
      ],
      "text/plain": [
       "  full_name  age           city\n",
       "0     Alice   25       New York\n",
       "1       Bob   32          Paris\n",
       "2   Charlie   18         London\n",
       "3     David   47  San Francisco"
      ]
     },
     "execution_count": 31,
     "metadata": {},
     "output_type": "execute_result"
    }
   ],
   "source": [
    "data.rename(columns={\"first_name\":\"name\"})\n",
    "# if I look into the dataframe, pandas didnot change anything so we need to use the \"inplace\" argument"
   ]
  },
  {
   "cell_type": "code",
   "execution_count": 34,
   "id": "755b5fb4",
   "metadata": {},
   "outputs": [
    {
     "data": {
      "text/plain": [
       "Index(['full_name', 'age', 'city'], dtype='object')"
      ]
     },
     "execution_count": 34,
     "metadata": {},
     "output_type": "execute_result"
    }
   ],
   "source": [
    "data.rename(columns={\"first_name\":\"name\"}, inplace=True)\n",
    "data.columns"
   ]
  },
  {
   "cell_type": "markdown",
   "id": "a97945ca",
   "metadata": {},
   "source": [
    "## Updating all values of particular row"
   ]
  },
  {
   "cell_type": "code",
   "execution_count": 35,
   "id": "c44f1670",
   "metadata": {},
   "outputs": [],
   "source": [
    "# Let's say I want to update the row 2 [\"Charles\", 18, \"London\"]\n",
    "data.loc[2] = [\"Mike\", 19 , \"Amesterdam\"]"
   ]
  },
  {
   "cell_type": "code",
   "execution_count": 36,
   "id": "d3932ad5",
   "metadata": {},
   "outputs": [
    {
     "data": {
      "text/html": [
       "<div>\n",
       "<style scoped>\n",
       "    .dataframe tbody tr th:only-of-type {\n",
       "        vertical-align: middle;\n",
       "    }\n",
       "\n",
       "    .dataframe tbody tr th {\n",
       "        vertical-align: top;\n",
       "    }\n",
       "\n",
       "    .dataframe thead th {\n",
       "        text-align: right;\n",
       "    }\n",
       "</style>\n",
       "<table border=\"1\" class=\"dataframe\">\n",
       "  <thead>\n",
       "    <tr style=\"text-align: right;\">\n",
       "      <th></th>\n",
       "      <th>full_name</th>\n",
       "      <th>age</th>\n",
       "      <th>city</th>\n",
       "    </tr>\n",
       "  </thead>\n",
       "  <tbody>\n",
       "    <tr>\n",
       "      <th>0</th>\n",
       "      <td>Alice</td>\n",
       "      <td>25</td>\n",
       "      <td>New York</td>\n",
       "    </tr>\n",
       "    <tr>\n",
       "      <th>1</th>\n",
       "      <td>Bob</td>\n",
       "      <td>32</td>\n",
       "      <td>Paris</td>\n",
       "    </tr>\n",
       "    <tr>\n",
       "      <th>2</th>\n",
       "      <td>Mike</td>\n",
       "      <td>19</td>\n",
       "      <td>Amesterdam</td>\n",
       "    </tr>\n",
       "    <tr>\n",
       "      <th>3</th>\n",
       "      <td>David</td>\n",
       "      <td>47</td>\n",
       "      <td>San Francisco</td>\n",
       "    </tr>\n",
       "  </tbody>\n",
       "</table>\n",
       "</div>"
      ],
      "text/plain": [
       "  full_name  age           city\n",
       "0     Alice   25       New York\n",
       "1       Bob   32          Paris\n",
       "2      Mike   19     Amesterdam\n",
       "3     David   47  San Francisco"
      ]
     },
     "execution_count": 36,
     "metadata": {},
     "output_type": "execute_result"
    }
   ],
   "source": [
    "data"
   ]
  },
  {
   "cell_type": "markdown",
   "id": "fc0149eb",
   "metadata": {},
   "source": [
    "## Updating specific column values for a single row"
   ]
  },
  {
   "cell_type": "code",
   "execution_count": null,
   "id": "757c3e1e",
   "metadata": {},
   "outputs": [],
   "source": []
  }
 ],
 "metadata": {
  "kernelspec": {
   "display_name": "Python 3 (ipykernel)",
   "language": "python",
   "name": "python3"
  },
  "language_info": {
   "codemirror_mode": {
    "name": "ipython",
    "version": 3
   },
   "file_extension": ".py",
   "mimetype": "text/x-python",
   "name": "python",
   "nbconvert_exporter": "python",
   "pygments_lexer": "ipython3",
   "version": "3.9.13"
  }
 },
 "nbformat": 4,
 "nbformat_minor": 5
}
