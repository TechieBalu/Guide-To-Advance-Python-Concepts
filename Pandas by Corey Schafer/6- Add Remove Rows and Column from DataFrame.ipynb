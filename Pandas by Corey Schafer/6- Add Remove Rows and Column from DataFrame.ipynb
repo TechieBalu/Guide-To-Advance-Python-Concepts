{
 "cells": [
  {
   "cell_type": "code",
   "execution_count": 1,
   "id": "4ed8b0e1",
   "metadata": {},
   "outputs": [],
   "source": [
    "import pandas as pd \n",
    "import numpy as np "
   ]
  },
  {
   "cell_type": "code",
   "execution_count": 21,
   "id": "5b5d7f54",
   "metadata": {},
   "outputs": [],
   "source": [
    "#  dummy dictionary to convert it into dataframe\n",
    "\n",
    "data = {\n",
    "    'first_name': ['Alice', 'Bob', 'Charlie', 'David'],\n",
    "    'last_name': ['Pretty', 'Chura', 'BC', 'BSDK'],\n",
    "    'age': [25, 32, 18, 47],\n",
    "    'city': ['New York', 'Paris', 'London', 'San Francisco'],\n",
    "    'salary':[10000,120000,125000,105000]\n",
    "}"
   ]
  },
  {
   "cell_type": "code",
   "execution_count": 22,
   "id": "80afe6f0",
   "metadata": {},
   "outputs": [],
   "source": [
    "data = pd.DataFrame(data)"
   ]
  },
  {
   "cell_type": "code",
   "execution_count": 23,
   "id": "ff78234a",
   "metadata": {},
   "outputs": [],
   "source": [
    "df = pd.read_csv(\"CSVs\\survey_results_public.csv\")"
   ]
  },
  {
   "cell_type": "markdown",
   "id": "e3473f2e",
   "metadata": {},
   "source": [
    "## Adding new column in dataframe"
   ]
  },
  {
   "cell_type": "code",
   "execution_count": 25,
   "id": "aaa799c3",
   "metadata": {},
   "outputs": [
    {
     "data": {
      "text/plain": [
       "0    AlicePretty\n",
       "1       BobChura\n",
       "2      CharlieBC\n",
       "3      DavidBSDK\n",
       "dtype: object"
      ]
     },
     "execution_count": 25,
     "metadata": {},
     "output_type": "execute_result"
    }
   ],
   "source": [
    "data[\"first_name\"] + data[\"last_name\"]"
   ]
  },
  {
   "cell_type": "code",
   "execution_count": 27,
   "id": "13326242",
   "metadata": {},
   "outputs": [],
   "source": [
    "data[\"full_name\"] = data[\"first_name\"] + \" \" + data[\"last_name\"]"
   ]
  },
  {
   "cell_type": "code",
   "execution_count": 28,
   "id": "da472d04",
   "metadata": {},
   "outputs": [
    {
     "data": {
      "text/html": [
       "<div>\n",
       "<style scoped>\n",
       "    .dataframe tbody tr th:only-of-type {\n",
       "        vertical-align: middle;\n",
       "    }\n",
       "\n",
       "    .dataframe tbody tr th {\n",
       "        vertical-align: top;\n",
       "    }\n",
       "\n",
       "    .dataframe thead th {\n",
       "        text-align: right;\n",
       "    }\n",
       "</style>\n",
       "<table border=\"1\" class=\"dataframe\">\n",
       "  <thead>\n",
       "    <tr style=\"text-align: right;\">\n",
       "      <th></th>\n",
       "      <th>first_name</th>\n",
       "      <th>last_name</th>\n",
       "      <th>age</th>\n",
       "      <th>city</th>\n",
       "      <th>salary</th>\n",
       "      <th>full_name</th>\n",
       "    </tr>\n",
       "  </thead>\n",
       "  <tbody>\n",
       "    <tr>\n",
       "      <th>0</th>\n",
       "      <td>Alice</td>\n",
       "      <td>Pretty</td>\n",
       "      <td>25</td>\n",
       "      <td>New York</td>\n",
       "      <td>10000</td>\n",
       "      <td>Alice Pretty</td>\n",
       "    </tr>\n",
       "    <tr>\n",
       "      <th>1</th>\n",
       "      <td>Bob</td>\n",
       "      <td>Chura</td>\n",
       "      <td>32</td>\n",
       "      <td>Paris</td>\n",
       "      <td>120000</td>\n",
       "      <td>Bob Chura</td>\n",
       "    </tr>\n",
       "    <tr>\n",
       "      <th>2</th>\n",
       "      <td>Charlie</td>\n",
       "      <td>BC</td>\n",
       "      <td>18</td>\n",
       "      <td>London</td>\n",
       "      <td>125000</td>\n",
       "      <td>Charlie BC</td>\n",
       "    </tr>\n",
       "    <tr>\n",
       "      <th>3</th>\n",
       "      <td>David</td>\n",
       "      <td>BSDK</td>\n",
       "      <td>47</td>\n",
       "      <td>San Francisco</td>\n",
       "      <td>105000</td>\n",
       "      <td>David BSDK</td>\n",
       "    </tr>\n",
       "  </tbody>\n",
       "</table>\n",
       "</div>"
      ],
      "text/plain": [
       "  first_name last_name  age           city  salary     full_name\n",
       "0      Alice    Pretty   25       New York   10000  Alice Pretty\n",
       "1        Bob     Chura   32          Paris  120000     Bob Chura\n",
       "2    Charlie        BC   18         London  125000    Charlie BC\n",
       "3      David      BSDK   47  San Francisco  105000    David BSDK"
      ]
     },
     "execution_count": 28,
     "metadata": {},
     "output_type": "execute_result"
    }
   ],
   "source": [
    "data\n",
    "\n",
    "# Now our original dataset is modified\n",
    "# We can also make a new column on the analysis of other columns with the help pf apply() "
   ]
  },
  {
   "cell_type": "markdown",
   "id": "9fb21cb0",
   "metadata": {},
   "source": [
    "## Deleting column in dataframe"
   ]
  },
  {
   "cell_type": "code",
   "execution_count": 29,
   "id": "aa8c0259",
   "metadata": {},
   "outputs": [
    {
     "data": {
      "text/html": [
       "<div>\n",
       "<style scoped>\n",
       "    .dataframe tbody tr th:only-of-type {\n",
       "        vertical-align: middle;\n",
       "    }\n",
       "\n",
       "    .dataframe tbody tr th {\n",
       "        vertical-align: top;\n",
       "    }\n",
       "\n",
       "    .dataframe thead th {\n",
       "        text-align: right;\n",
       "    }\n",
       "</style>\n",
       "<table border=\"1\" class=\"dataframe\">\n",
       "  <thead>\n",
       "    <tr style=\"text-align: right;\">\n",
       "      <th></th>\n",
       "      <th>age</th>\n",
       "      <th>city</th>\n",
       "      <th>salary</th>\n",
       "      <th>full_name</th>\n",
       "    </tr>\n",
       "  </thead>\n",
       "  <tbody>\n",
       "    <tr>\n",
       "      <th>0</th>\n",
       "      <td>25</td>\n",
       "      <td>New York</td>\n",
       "      <td>10000</td>\n",
       "      <td>Alice Pretty</td>\n",
       "    </tr>\n",
       "    <tr>\n",
       "      <th>1</th>\n",
       "      <td>32</td>\n",
       "      <td>Paris</td>\n",
       "      <td>120000</td>\n",
       "      <td>Bob Chura</td>\n",
       "    </tr>\n",
       "    <tr>\n",
       "      <th>2</th>\n",
       "      <td>18</td>\n",
       "      <td>London</td>\n",
       "      <td>125000</td>\n",
       "      <td>Charlie BC</td>\n",
       "    </tr>\n",
       "    <tr>\n",
       "      <th>3</th>\n",
       "      <td>47</td>\n",
       "      <td>San Francisco</td>\n",
       "      <td>105000</td>\n",
       "      <td>David BSDK</td>\n",
       "    </tr>\n",
       "  </tbody>\n",
       "</table>\n",
       "</div>"
      ],
      "text/plain": [
       "   age           city  salary     full_name\n",
       "0   25       New York   10000  Alice Pretty\n",
       "1   32          Paris  120000     Bob Chura\n",
       "2   18         London  125000    Charlie BC\n",
       "3   47  San Francisco  105000    David BSDK"
      ]
     },
     "execution_count": 29,
     "metadata": {},
     "output_type": "execute_result"
    }
   ],
   "source": [
    "data.drop(columns=[\"first_name\",\"last_name\"], inplace = True)\n",
    "\n",
    "# \"name_city\" column has been dropped in results but not in original dataset if we dont use inplace argument\n",
    "# setting inplace = true because otherwise it will affect the dataset\n",
    "data"
   ]
  },
  {
   "cell_type": "markdown",
   "id": "44b3c1cf",
   "metadata": {},
   "source": [
    "## Making 2 columns from a single column"
   ]
  },
  {
   "cell_type": "code",
   "execution_count": 31,
   "id": "ee7979bb",
   "metadata": {},
   "outputs": [
    {
     "data": {
      "text/html": [
       "<div>\n",
       "<style scoped>\n",
       "    .dataframe tbody tr th:only-of-type {\n",
       "        vertical-align: middle;\n",
       "    }\n",
       "\n",
       "    .dataframe tbody tr th {\n",
       "        vertical-align: top;\n",
       "    }\n",
       "\n",
       "    .dataframe thead th {\n",
       "        text-align: right;\n",
       "    }\n",
       "</style>\n",
       "<table border=\"1\" class=\"dataframe\">\n",
       "  <thead>\n",
       "    <tr style=\"text-align: right;\">\n",
       "      <th></th>\n",
       "      <th>0</th>\n",
       "      <th>1</th>\n",
       "    </tr>\n",
       "  </thead>\n",
       "  <tbody>\n",
       "    <tr>\n",
       "      <th>0</th>\n",
       "      <td>Alice</td>\n",
       "      <td>Pretty</td>\n",
       "    </tr>\n",
       "    <tr>\n",
       "      <th>1</th>\n",
       "      <td>Bob</td>\n",
       "      <td>Chura</td>\n",
       "    </tr>\n",
       "    <tr>\n",
       "      <th>2</th>\n",
       "      <td>Charlie</td>\n",
       "      <td>BC</td>\n",
       "    </tr>\n",
       "    <tr>\n",
       "      <th>3</th>\n",
       "      <td>David</td>\n",
       "      <td>BSDK</td>\n",
       "    </tr>\n",
       "  </tbody>\n",
       "</table>\n",
       "</div>"
      ],
      "text/plain": [
       "         0       1\n",
       "0    Alice  Pretty\n",
       "1      Bob   Chura\n",
       "2  Charlie      BC\n",
       "3    David    BSDK"
      ]
     },
     "execution_count": 31,
     "metadata": {},
     "output_type": "execute_result"
    }
   ],
   "source": [
    "data[\"full_name\"].str.split(\" \", expand=True)\n",
    "\n",
    "# Setting expand = True will return us dataframe"
   ]
  },
  {
   "cell_type": "code",
   "execution_count": 32,
   "id": "3605fbaa",
   "metadata": {},
   "outputs": [
    {
     "data": {
      "text/plain": [
       "0    [Alice, Pretty]\n",
       "1       [Bob, Chura]\n",
       "2      [Charlie, BC]\n",
       "3      [David, BSDK]\n",
       "Name: full_name, dtype: object"
      ]
     },
     "execution_count": 32,
     "metadata": {},
     "output_type": "execute_result"
    }
   ],
   "source": [
    "data[\"full_name\"].str.split(\" \")\n",
    "\n",
    "# Setting expand not equal to True will give us the list of values, "
   ]
  },
  {
   "cell_type": "code",
   "execution_count": 33,
   "id": "043308d7",
   "metadata": {},
   "outputs": [],
   "source": [
    "# Now by using the expand=True we can set this dataframes's each column to individual new columns \n",
    "data[[\"first_name\",\"last_name\"]]  = data[\"full_name\"].str.split(\" \", expand=True)\n"
   ]
  },
  {
   "cell_type": "code",
   "execution_count": 34,
   "id": "69600692",
   "metadata": {},
   "outputs": [
    {
     "data": {
      "text/html": [
       "<div>\n",
       "<style scoped>\n",
       "    .dataframe tbody tr th:only-of-type {\n",
       "        vertical-align: middle;\n",
       "    }\n",
       "\n",
       "    .dataframe tbody tr th {\n",
       "        vertical-align: top;\n",
       "    }\n",
       "\n",
       "    .dataframe thead th {\n",
       "        text-align: right;\n",
       "    }\n",
       "</style>\n",
       "<table border=\"1\" class=\"dataframe\">\n",
       "  <thead>\n",
       "    <tr style=\"text-align: right;\">\n",
       "      <th></th>\n",
       "      <th>age</th>\n",
       "      <th>city</th>\n",
       "      <th>salary</th>\n",
       "      <th>full_name</th>\n",
       "      <th>first_name</th>\n",
       "      <th>last_name</th>\n",
       "    </tr>\n",
       "  </thead>\n",
       "  <tbody>\n",
       "    <tr>\n",
       "      <th>0</th>\n",
       "      <td>25</td>\n",
       "      <td>New York</td>\n",
       "      <td>10000</td>\n",
       "      <td>Alice Pretty</td>\n",
       "      <td>Alice</td>\n",
       "      <td>Pretty</td>\n",
       "    </tr>\n",
       "    <tr>\n",
       "      <th>1</th>\n",
       "      <td>32</td>\n",
       "      <td>Paris</td>\n",
       "      <td>120000</td>\n",
       "      <td>Bob Chura</td>\n",
       "      <td>Bob</td>\n",
       "      <td>Chura</td>\n",
       "    </tr>\n",
       "    <tr>\n",
       "      <th>2</th>\n",
       "      <td>18</td>\n",
       "      <td>London</td>\n",
       "      <td>125000</td>\n",
       "      <td>Charlie BC</td>\n",
       "      <td>Charlie</td>\n",
       "      <td>BC</td>\n",
       "    </tr>\n",
       "    <tr>\n",
       "      <th>3</th>\n",
       "      <td>47</td>\n",
       "      <td>San Francisco</td>\n",
       "      <td>105000</td>\n",
       "      <td>David BSDK</td>\n",
       "      <td>David</td>\n",
       "      <td>BSDK</td>\n",
       "    </tr>\n",
       "  </tbody>\n",
       "</table>\n",
       "</div>"
      ],
      "text/plain": [
       "   age           city  salary     full_name first_name last_name\n",
       "0   25       New York   10000  Alice Pretty      Alice    Pretty\n",
       "1   32          Paris  120000     Bob Chura        Bob     Chura\n",
       "2   18         London  125000    Charlie BC    Charlie        BC\n",
       "3   47  San Francisco  105000    David BSDK      David      BSDK"
      ]
     },
     "execution_count": 34,
     "metadata": {},
     "output_type": "execute_result"
    }
   ],
   "source": [
    "data"
   ]
  },
  {
   "cell_type": "code",
   "execution_count": null,
   "id": "0f93c52a",
   "metadata": {},
   "outputs": [],
   "source": []
  }
 ],
 "metadata": {
  "kernelspec": {
   "display_name": "Python 3 (ipykernel)",
   "language": "python",
   "name": "python3"
  },
  "language_info": {
   "codemirror_mode": {
    "name": "ipython",
    "version": 3
   },
   "file_extension": ".py",
   "mimetype": "text/x-python",
   "name": "python",
   "nbconvert_exporter": "python",
   "pygments_lexer": "ipython3",
   "version": "3.9.13"
  }
 },
 "nbformat": 4,
 "nbformat_minor": 5
}
