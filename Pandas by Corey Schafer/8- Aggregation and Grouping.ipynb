{
 "cells": [
  {
   "cell_type": "markdown",
   "id": "28f721ca",
   "metadata": {},
   "source": [
    "# Aggregation and Grouping"
   ]
  },
  {
   "cell_type": "code",
   "execution_count": 1,
   "id": "ab801296",
   "metadata": {},
   "outputs": [],
   "source": [
    "import pandas as pd \n",
    "import numpy as np "
   ]
  },
  {
   "cell_type": "code",
   "execution_count": 8,
   "id": "17fd4f1e",
   "metadata": {},
   "outputs": [],
   "source": [
    "#  dummy dictionary to convert it into dataframe\n",
    "\n",
    "data = {\n",
    "    'first_name': ['Alice', 'Bob', 'Charlie', 'David'],\n",
    "    'last_name': ['Pretty', 'Chura', 'BC', 'BSDK'],\n",
    "    'age': [25, 32, 18, 47],\n",
    "    'city': ['New York', 'Paris', 'London', 'San Francisco'],\n",
    "    'salary':[10000,120000,125000,105000]\n",
    "}"
   ]
  },
  {
   "cell_type": "code",
   "execution_count": 9,
   "id": "47fbbf72",
   "metadata": {},
   "outputs": [],
   "source": [
    "data = pd.DataFrame(data)"
   ]
  },
  {
   "cell_type": "code",
   "execution_count": 10,
   "id": "49bc4946",
   "metadata": {},
   "outputs": [],
   "source": [
    "df = pd.read_csv(\"CSVs\\survey_results_public.csv\")"
   ]
  },
  {
   "cell_type": "markdown",
   "id": "730e6bac",
   "metadata": {},
   "source": [
    "## Aggregation\n",
    "Aggregation means combining multiple pieces of data into single results\n",
    "e.g. mean(), median() ,mode() are aggregate function because it combines multiple values and gives us single result"
   ]
  },
  {
   "cell_type": "code",
   "execution_count": null,
   "id": "a3d918b1",
   "metadata": {},
   "outputs": [],
   "source": []
  }
 ],
 "metadata": {
  "kernelspec": {
   "display_name": "Python 3 (ipykernel)",
   "language": "python",
   "name": "python3"
  },
  "language_info": {
   "codemirror_mode": {
    "name": "ipython",
    "version": 3
   },
   "file_extension": ".py",
   "mimetype": "text/x-python",
   "name": "python",
   "nbconvert_exporter": "python",
   "pygments_lexer": "ipython3",
   "version": "3.9.13"
  }
 },
 "nbformat": 4,
 "nbformat_minor": 5
}
