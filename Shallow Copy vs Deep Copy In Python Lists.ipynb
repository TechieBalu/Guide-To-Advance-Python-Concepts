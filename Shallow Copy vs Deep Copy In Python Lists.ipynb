{
 "cells": [
  {
   "cell_type": "markdown",
   "id": "236259a5",
   "metadata": {},
   "source": [
    "# Shallow Copy vs Deep Copy In Python:"
   ]
  },
  {
   "cell_type": "markdown",
   "id": "b6737de1",
   "metadata": {},
   "source": [
    "In computer programming, a copy is a new object that is created from an existing object. There are two types of copies: shallow copies and deep copies. \n",
    "\n",
    "A shallow copy creates a new object that contains the same values as the original object. However, the two objects share the same memory for any nested objects. This means that if you change the value of a nested object in one object, the change will be reflected in the other object.       \n",
    "\n",
    "A deep copy creates a new object that contains the same values as the original object, including the values of any nested objects. This means that changes to nested objects in one object will not be reflected in another."
   ]
  },
  {
   "cell_type": "code",
   "execution_count": 12,
   "id": "0570d616",
   "metadata": {},
   "outputs": [],
   "source": [
    "# We will work with all given vairations of objects in Python lists \n",
    "\n",
    "l1 = [1,2,3]\n",
    "l2 = [\"str\", \"str1\", \"str3\"]\n",
    "l3 = [1.3,5.9,3.3]\n",
    "l4 = [[1,2],[3,4],[5,6]]\n",
    "l5 = [(1,2),(3,4),(5,6)]\n",
    "l6 = [{1,2},{6,7}, {9,0}]\n",
    "l7 = [{\"First\":\"Shahmeer\", \"last\":\"khan\"}, {\"age\":24 , \"Gender\":\"M\"}]"
   ]
  },
  {
   "cell_type": "markdown",
   "id": "ebea8ede",
   "metadata": {},
   "source": [
    "### List of Integers"
   ]
  },
  {
   "cell_type": "code",
   "execution_count": 13,
   "id": "d4eab5cf",
   "metadata": {},
   "outputs": [
    {
     "name": "stdout",
     "output_type": "stream",
     "text": [
      "Original List:  [1, 2, 3, 5] \n",
      "\n",
      " Copied List:  [1, 2, 3, 5]\n"
     ]
    }
   ],
   "source": [
    "# Copying without using copy function.\n",
    "# Python assigns same memory address to both lists and change in either will affect both lists.\n",
    "\n",
    "l1_original = [1,2,3]\n",
    "l1_copy = l1_original \n",
    "l1_original.append(5)\n",
    "print(\"Original List: \",l1_original ,\"\\n\\n\",\"Copied List: \", l1_copy )"
   ]
  },
  {
   "cell_type": "code",
   "execution_count": 14,
   "id": "e62c4eb9",
   "metadata": {},
   "outputs": [
    {
     "name": "stdout",
     "output_type": "stream",
     "text": [
      "Original List:  [1, 2, 3, 5] \n",
      "\n",
      " Copied List:  [1, 2, 3]\n"
     ]
    }
   ],
   "source": [
    "# Copying using \"copy()\" function which is called shallow copy of object\n",
    "# Copied list will not be affected after modifying any element in original list.\n",
    "\n",
    "l1_original = [1,2,3]\n",
    "l1_copy = l1_original.copy()\n",
    "l1_original.append(5)\n",
    "print(\"Original List: \",l1_original ,\"\\n\\n\",\"Copied List: \", l1_copy )"
   ]
  },
  {
   "cell_type": "code",
   "execution_count": 15,
   "id": "91f24f72",
   "metadata": {},
   "outputs": [
    {
     "name": "stdout",
     "output_type": "stream",
     "text": [
      "Original List:  ['str', 'str1', 'str3', 'str4'] \n",
      "\n",
      " Copied List:  ['str', 'str1', 'str3']\n"
     ]
    }
   ],
   "source": [
    "# Working with List of Strings\n",
    "\n",
    "l2_original = [\"str\", \"str1\", \"str3\"]\n",
    "l2_copy = l2_original.copy()\n",
    "l2_original.append(\"str4\")\n",
    "print(\"Original List: \",l2_original ,\"\\n\\n\",\"Copied List: \", l2_copy )"
   ]
  },
  {
   "cell_type": "code",
   "execution_count": null,
   "id": "0a24a479",
   "metadata": {},
   "outputs": [],
   "source": [
    "# Working with List of Floats\n",
    "\n",
    "l3_original = [1.3,5.9,3.3]\n",
    "l3_copy = l3_original.copy()\n",
    "l3_original.append(0.9)\n",
    "print(\"Original List: \",l2_original ,\"\\n\\n\",\"Copied List: \", l2_copy )"
   ]
  }
 ],
 "metadata": {
  "kernelspec": {
   "display_name": "Python 3 (ipykernel)",
   "language": "python",
   "name": "python3"
  },
  "language_info": {
   "codemirror_mode": {
    "name": "ipython",
    "version": 3
   },
   "file_extension": ".py",
   "mimetype": "text/x-python",
   "name": "python",
   "nbconvert_exporter": "python",
   "pygments_lexer": "ipython3",
   "version": "3.9.13"
  }
 },
 "nbformat": 4,
 "nbformat_minor": 5
}
